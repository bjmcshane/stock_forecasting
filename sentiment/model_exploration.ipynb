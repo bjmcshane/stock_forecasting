{
 "cells": [
  {
   "cell_type": "code",
   "execution_count": 158,
   "metadata": {},
   "outputs": [],
   "source": [
    "from fastquant import get_stock_data\n",
    "import pandas as pd\n",
    "import numpy as np\n",
    "import matplotlib.pyplot as plt"
   ]
  },
  {
   "cell_type": "markdown",
   "metadata": {},
   "source": [
    "# Tweet Data Preprocessing"
   ]
  },
  {
   "cell_type": "code",
   "execution_count": 159,
   "metadata": {},
   "outputs": [],
   "source": [
    "tweets = pd.read_csv('tweets.csv')"
   ]
  },
  {
   "cell_type": "code",
   "execution_count": 130,
   "metadata": {},
   "outputs": [
    {
     "data": {
      "text/plain": [
       "Index(['Unnamed: 0', 'date', 'id', 'lang', 'probability', 'sentiment', 'text',\n",
       "       'ticker'],\n",
       "      dtype='object')"
      ]
     },
     "execution_count": 130,
     "metadata": {},
     "output_type": "execute_result"
    }
   ],
   "source": [
    "tweets.columns"
   ]
  },
  {
   "cell_type": "code",
   "execution_count": 131,
   "metadata": {},
   "outputs": [],
   "source": [
    "tweets.drop(columns=['Unnamed: 0'], inplace=True)"
   ]
  },
  {
   "cell_type": "code",
   "execution_count": 132,
   "metadata": {},
   "outputs": [
    {
     "data": {
      "text/html": [
       "<div>\n",
       "<style scoped>\n",
       "    .dataframe tbody tr th:only-of-type {\n",
       "        vertical-align: middle;\n",
       "    }\n",
       "\n",
       "    .dataframe tbody tr th {\n",
       "        vertical-align: top;\n",
       "    }\n",
       "\n",
       "    .dataframe thead th {\n",
       "        text-align: right;\n",
       "    }\n",
       "</style>\n",
       "<table border=\"1\" class=\"dataframe\">\n",
       "  <thead>\n",
       "    <tr style=\"text-align: right;\">\n",
       "      <th></th>\n",
       "      <th>date</th>\n",
       "      <th>id</th>\n",
       "      <th>lang</th>\n",
       "      <th>probability</th>\n",
       "      <th>sentiment</th>\n",
       "      <th>text</th>\n",
       "      <th>ticker</th>\n",
       "    </tr>\n",
       "  </thead>\n",
       "  <tbody>\n",
       "    <tr>\n",
       "      <th>0</th>\n",
       "      <td>2021-04-19</td>\n",
       "      <td>1.383936e+18</td>\n",
       "      <td>en</td>\n",
       "      <td>0.788206</td>\n",
       "      <td>POSITIVE</td>\n",
       "      <td>#btc #chatter #noise #eth #dogecoin \\n$spx $sp...</td>\n",
       "      <td>tsla</td>\n",
       "    </tr>\n",
       "    <tr>\n",
       "      <th>1</th>\n",
       "      <td>2021-04-19</td>\n",
       "      <td>1.383936e+18</td>\n",
       "      <td>en</td>\n",
       "      <td>0.998966</td>\n",
       "      <td>NEGATIVE</td>\n",
       "      <td>$TSLA crash kills two in #Texas</td>\n",
       "      <td>tsla</td>\n",
       "    </tr>\n",
       "    <tr>\n",
       "      <th>2</th>\n",
       "      <td>2021-04-19</td>\n",
       "      <td>1.383936e+18</td>\n",
       "      <td>en</td>\n",
       "      <td>0.949687</td>\n",
       "      <td>POSITIVE</td>\n",
       "      <td>RT  Setups and Watch List, 4/18: $TSLA $SNAP $...</td>\n",
       "      <td>tsla</td>\n",
       "    </tr>\n",
       "    <tr>\n",
       "      <th>3</th>\n",
       "      <td>2021-04-19</td>\n",
       "      <td>1.383936e+18</td>\n",
       "      <td>en</td>\n",
       "      <td>0.535232</td>\n",
       "      <td>NEGATIVE</td>\n",
       "      <td>$GOOGL Has been a leader in FANG. Over 2300 we...</td>\n",
       "      <td>tsla</td>\n",
       "    </tr>\n",
       "    <tr>\n",
       "      <th>4</th>\n",
       "      <td>2021-04-19</td>\n",
       "      <td>1.383936e+18</td>\n",
       "      <td>en</td>\n",
       "      <td>0.966784</td>\n",
       "      <td>NEGATIVE</td>\n",
       "      <td>Few stocks in the news this weekend \\n$DIS $CO...</td>\n",
       "      <td>tsla</td>\n",
       "    </tr>\n",
       "    <tr>\n",
       "      <th>...</th>\n",
       "      <td>...</td>\n",
       "      <td>...</td>\n",
       "      <td>...</td>\n",
       "      <td>...</td>\n",
       "      <td>...</td>\n",
       "      <td>...</td>\n",
       "      <td>...</td>\n",
       "    </tr>\n",
       "    <tr>\n",
       "      <th>203606</th>\n",
       "      <td>2021-04-13</td>\n",
       "      <td>1.381844e+18</td>\n",
       "      <td>en</td>\n",
       "      <td>0.999822</td>\n",
       "      <td>NEGATIVE</td>\n",
       "      <td>RT  Palantir might be on pause, but is the opt...</td>\n",
       "      <td>pltr</td>\n",
       "    </tr>\n",
       "    <tr>\n",
       "      <th>203607</th>\n",
       "      <td>2021-04-13</td>\n",
       "      <td>1.381844e+18</td>\n",
       "      <td>en</td>\n",
       "      <td>0.999822</td>\n",
       "      <td>NEGATIVE</td>\n",
       "      <td>RT  Palantir might be on pause, but is the opt...</td>\n",
       "      <td>pltr</td>\n",
       "    </tr>\n",
       "    <tr>\n",
       "      <th>203608</th>\n",
       "      <td>2021-04-13</td>\n",
       "      <td>1.381843e+18</td>\n",
       "      <td>en</td>\n",
       "      <td>0.999841</td>\n",
       "      <td>NEGATIVE</td>\n",
       "      <td>$PLTR update dropped to demand to give us a be...</td>\n",
       "      <td>pltr</td>\n",
       "    </tr>\n",
       "    <tr>\n",
       "      <th>203609</th>\n",
       "      <td>2021-04-13</td>\n",
       "      <td>1.381843e+18</td>\n",
       "      <td>en</td>\n",
       "      <td>0.751278</td>\n",
       "      <td>POSITIVE</td>\n",
       "      <td>Our alerted contracts were able to make $78% p...</td>\n",
       "      <td>pltr</td>\n",
       "    </tr>\n",
       "    <tr>\n",
       "      <th>203610</th>\n",
       "      <td>2021-04-13</td>\n",
       "      <td>1.381843e+18</td>\n",
       "      <td>en</td>\n",
       "      <td>0.992087</td>\n",
       "      <td>NEGATIVE</td>\n",
       "      <td>RT  $SPY is on fire🔥🔥\\nfollow our latest updat...</td>\n",
       "      <td>pltr</td>\n",
       "    </tr>\n",
       "  </tbody>\n",
       "</table>\n",
       "<p>203611 rows × 7 columns</p>\n",
       "</div>"
      ],
      "text/plain": [
       "              date            id lang  probability sentiment  \\\n",
       "0       2021-04-19  1.383936e+18   en     0.788206  POSITIVE   \n",
       "1       2021-04-19  1.383936e+18   en     0.998966  NEGATIVE   \n",
       "2       2021-04-19  1.383936e+18   en     0.949687  POSITIVE   \n",
       "3       2021-04-19  1.383936e+18   en     0.535232  NEGATIVE   \n",
       "4       2021-04-19  1.383936e+18   en     0.966784  NEGATIVE   \n",
       "...            ...           ...  ...          ...       ...   \n",
       "203606  2021-04-13  1.381844e+18   en     0.999822  NEGATIVE   \n",
       "203607  2021-04-13  1.381844e+18   en     0.999822  NEGATIVE   \n",
       "203608  2021-04-13  1.381843e+18   en     0.999841  NEGATIVE   \n",
       "203609  2021-04-13  1.381843e+18   en     0.751278  POSITIVE   \n",
       "203610  2021-04-13  1.381843e+18   en     0.992087  NEGATIVE   \n",
       "\n",
       "                                                     text ticker  \n",
       "0       #btc #chatter #noise #eth #dogecoin \\n$spx $sp...   tsla  \n",
       "1                        $TSLA crash kills two in #Texas    tsla  \n",
       "2       RT  Setups and Watch List, 4/18: $TSLA $SNAP $...   tsla  \n",
       "3       $GOOGL Has been a leader in FANG. Over 2300 we...   tsla  \n",
       "4       Few stocks in the news this weekend \\n$DIS $CO...   tsla  \n",
       "...                                                   ...    ...  \n",
       "203606  RT  Palantir might be on pause, but is the opt...   pltr  \n",
       "203607  RT  Palantir might be on pause, but is the opt...   pltr  \n",
       "203608  $PLTR update dropped to demand to give us a be...   pltr  \n",
       "203609  Our alerted contracts were able to make $78% p...   pltr  \n",
       "203610  RT  $SPY is on fire🔥🔥\\nfollow our latest updat...   pltr  \n",
       "\n",
       "[203611 rows x 7 columns]"
      ]
     },
     "execution_count": 132,
     "metadata": {},
     "output_type": "execute_result"
    }
   ],
   "source": [
    "tweets"
   ]
  },
  {
   "cell_type": "code",
   "execution_count": 133,
   "metadata": {},
   "outputs": [
    {
     "name": "stdout",
     "output_type": "stream",
     "text": [
      "<class 'pandas.core.frame.DataFrame'>\n",
      "RangeIndex: 203611 entries, 0 to 203610\n",
      "Data columns (total 7 columns):\n",
      " #   Column       Non-Null Count   Dtype  \n",
      "---  ------       --------------   -----  \n",
      " 0   date         203611 non-null  object \n",
      " 1   id           203611 non-null  float64\n",
      " 2   lang         203611 non-null  object \n",
      " 3   probability  203611 non-null  float64\n",
      " 4   sentiment    203611 non-null  object \n",
      " 5   text         203611 non-null  object \n",
      " 6   ticker       203611 non-null  object \n",
      "dtypes: float64(2), object(5)\n",
      "memory usage: 10.9+ MB\n"
     ]
    }
   ],
   "source": [
    "tweets.info()"
   ]
  },
  {
   "cell_type": "code",
   "execution_count": 134,
   "metadata": {},
   "outputs": [],
   "source": [
    "tweets = tweets.dropna()"
   ]
  },
  {
   "cell_type": "code",
   "execution_count": 135,
   "metadata": {},
   "outputs": [],
   "source": [
    "tweets = tweets.reset_index()"
   ]
  },
  {
   "cell_type": "code",
   "execution_count": 136,
   "metadata": {},
   "outputs": [],
   "source": [
    "tweets.drop(columns=['index'],inplace=True)"
   ]
  },
  {
   "cell_type": "code",
   "execution_count": 137,
   "metadata": {},
   "outputs": [
    {
     "name": "stdout",
     "output_type": "stream",
     "text": [
      "<class 'pandas.core.frame.DataFrame'>\n",
      "RangeIndex: 203611 entries, 0 to 203610\n",
      "Data columns (total 7 columns):\n",
      " #   Column       Non-Null Count   Dtype  \n",
      "---  ------       --------------   -----  \n",
      " 0   date         203611 non-null  object \n",
      " 1   id           203611 non-null  float64\n",
      " 2   lang         203611 non-null  object \n",
      " 3   probability  203611 non-null  float64\n",
      " 4   sentiment    203611 non-null  object \n",
      " 5   text         203611 non-null  object \n",
      " 6   ticker       203611 non-null  object \n",
      "dtypes: float64(2), object(5)\n",
      "memory usage: 10.9+ MB\n"
     ]
    }
   ],
   "source": [
    "tweets.info()"
   ]
  },
  {
   "cell_type": "code",
   "execution_count": 138,
   "metadata": {},
   "outputs": [
    {
     "data": {
      "text/plain": [
       "['aapl', 'amzn', 'msft', 'pltr', 'tsla']"
      ]
     },
     "execution_count": 138,
     "metadata": {},
     "output_type": "execute_result"
    }
   ],
   "source": [
    "sorted(tweets['ticker'].unique())"
   ]
  },
  {
   "cell_type": "code",
   "execution_count": 139,
   "metadata": {},
   "outputs": [],
   "source": [
    "from datetime import datetime\n",
    "date_obj = datetime.strptime('2021-04-21','%Y-%m-%d')\n",
    "date1_obj = datetime.strptime('2021-04-12','%Y-%m-%d')"
   ]
  },
  {
   "cell_type": "code",
   "execution_count": 140,
   "metadata": {},
   "outputs": [],
   "source": [
    "def date_conversion(date):\n",
    "    return datetime.strptime(date,'%Y-%m-%d')"
   ]
  },
  {
   "cell_type": "code",
   "execution_count": 141,
   "metadata": {},
   "outputs": [],
   "source": [
    "tweets['date'] = tweets['date'].apply(date_conversion)"
   ]
  },
  {
   "cell_type": "code",
   "execution_count": 142,
   "metadata": {},
   "outputs": [
    {
     "data": {
      "text/html": [
       "<div>\n",
       "<style scoped>\n",
       "    .dataframe tbody tr th:only-of-type {\n",
       "        vertical-align: middle;\n",
       "    }\n",
       "\n",
       "    .dataframe tbody tr th {\n",
       "        vertical-align: top;\n",
       "    }\n",
       "\n",
       "    .dataframe thead th {\n",
       "        text-align: right;\n",
       "    }\n",
       "</style>\n",
       "<table border=\"1\" class=\"dataframe\">\n",
       "  <thead>\n",
       "    <tr style=\"text-align: right;\">\n",
       "      <th></th>\n",
       "      <th>date</th>\n",
       "      <th>id</th>\n",
       "      <th>lang</th>\n",
       "      <th>probability</th>\n",
       "      <th>sentiment</th>\n",
       "      <th>text</th>\n",
       "      <th>ticker</th>\n",
       "    </tr>\n",
       "  </thead>\n",
       "  <tbody>\n",
       "    <tr>\n",
       "      <th>0</th>\n",
       "      <td>2021-04-19</td>\n",
       "      <td>1.383936e+18</td>\n",
       "      <td>en</td>\n",
       "      <td>0.788206</td>\n",
       "      <td>POSITIVE</td>\n",
       "      <td>#btc #chatter #noise #eth #dogecoin \\n$spx $sp...</td>\n",
       "      <td>tsla</td>\n",
       "    </tr>\n",
       "    <tr>\n",
       "      <th>1</th>\n",
       "      <td>2021-04-19</td>\n",
       "      <td>1.383936e+18</td>\n",
       "      <td>en</td>\n",
       "      <td>0.998966</td>\n",
       "      <td>NEGATIVE</td>\n",
       "      <td>$TSLA crash kills two in #Texas</td>\n",
       "      <td>tsla</td>\n",
       "    </tr>\n",
       "    <tr>\n",
       "      <th>2</th>\n",
       "      <td>2021-04-19</td>\n",
       "      <td>1.383936e+18</td>\n",
       "      <td>en</td>\n",
       "      <td>0.949687</td>\n",
       "      <td>POSITIVE</td>\n",
       "      <td>RT  Setups and Watch List, 4/18: $TSLA $SNAP $...</td>\n",
       "      <td>tsla</td>\n",
       "    </tr>\n",
       "    <tr>\n",
       "      <th>3</th>\n",
       "      <td>2021-04-19</td>\n",
       "      <td>1.383936e+18</td>\n",
       "      <td>en</td>\n",
       "      <td>0.535232</td>\n",
       "      <td>NEGATIVE</td>\n",
       "      <td>$GOOGL Has been a leader in FANG. Over 2300 we...</td>\n",
       "      <td>tsla</td>\n",
       "    </tr>\n",
       "    <tr>\n",
       "      <th>4</th>\n",
       "      <td>2021-04-19</td>\n",
       "      <td>1.383936e+18</td>\n",
       "      <td>en</td>\n",
       "      <td>0.966784</td>\n",
       "      <td>NEGATIVE</td>\n",
       "      <td>Few stocks in the news this weekend \\n$DIS $CO...</td>\n",
       "      <td>tsla</td>\n",
       "    </tr>\n",
       "    <tr>\n",
       "      <th>...</th>\n",
       "      <td>...</td>\n",
       "      <td>...</td>\n",
       "      <td>...</td>\n",
       "      <td>...</td>\n",
       "      <td>...</td>\n",
       "      <td>...</td>\n",
       "      <td>...</td>\n",
       "    </tr>\n",
       "    <tr>\n",
       "      <th>203606</th>\n",
       "      <td>2021-04-13</td>\n",
       "      <td>1.381844e+18</td>\n",
       "      <td>en</td>\n",
       "      <td>0.999822</td>\n",
       "      <td>NEGATIVE</td>\n",
       "      <td>RT  Palantir might be on pause, but is the opt...</td>\n",
       "      <td>pltr</td>\n",
       "    </tr>\n",
       "    <tr>\n",
       "      <th>203607</th>\n",
       "      <td>2021-04-13</td>\n",
       "      <td>1.381844e+18</td>\n",
       "      <td>en</td>\n",
       "      <td>0.999822</td>\n",
       "      <td>NEGATIVE</td>\n",
       "      <td>RT  Palantir might be on pause, but is the opt...</td>\n",
       "      <td>pltr</td>\n",
       "    </tr>\n",
       "    <tr>\n",
       "      <th>203608</th>\n",
       "      <td>2021-04-13</td>\n",
       "      <td>1.381843e+18</td>\n",
       "      <td>en</td>\n",
       "      <td>0.999841</td>\n",
       "      <td>NEGATIVE</td>\n",
       "      <td>$PLTR update dropped to demand to give us a be...</td>\n",
       "      <td>pltr</td>\n",
       "    </tr>\n",
       "    <tr>\n",
       "      <th>203609</th>\n",
       "      <td>2021-04-13</td>\n",
       "      <td>1.381843e+18</td>\n",
       "      <td>en</td>\n",
       "      <td>0.751278</td>\n",
       "      <td>POSITIVE</td>\n",
       "      <td>Our alerted contracts were able to make $78% p...</td>\n",
       "      <td>pltr</td>\n",
       "    </tr>\n",
       "    <tr>\n",
       "      <th>203610</th>\n",
       "      <td>2021-04-13</td>\n",
       "      <td>1.381843e+18</td>\n",
       "      <td>en</td>\n",
       "      <td>0.992087</td>\n",
       "      <td>NEGATIVE</td>\n",
       "      <td>RT  $SPY is on fire🔥🔥\\nfollow our latest updat...</td>\n",
       "      <td>pltr</td>\n",
       "    </tr>\n",
       "  </tbody>\n",
       "</table>\n",
       "<p>203611 rows × 7 columns</p>\n",
       "</div>"
      ],
      "text/plain": [
       "             date            id lang  probability sentiment  \\\n",
       "0      2021-04-19  1.383936e+18   en     0.788206  POSITIVE   \n",
       "1      2021-04-19  1.383936e+18   en     0.998966  NEGATIVE   \n",
       "2      2021-04-19  1.383936e+18   en     0.949687  POSITIVE   \n",
       "3      2021-04-19  1.383936e+18   en     0.535232  NEGATIVE   \n",
       "4      2021-04-19  1.383936e+18   en     0.966784  NEGATIVE   \n",
       "...           ...           ...  ...          ...       ...   \n",
       "203606 2021-04-13  1.381844e+18   en     0.999822  NEGATIVE   \n",
       "203607 2021-04-13  1.381844e+18   en     0.999822  NEGATIVE   \n",
       "203608 2021-04-13  1.381843e+18   en     0.999841  NEGATIVE   \n",
       "203609 2021-04-13  1.381843e+18   en     0.751278  POSITIVE   \n",
       "203610 2021-04-13  1.381843e+18   en     0.992087  NEGATIVE   \n",
       "\n",
       "                                                     text ticker  \n",
       "0       #btc #chatter #noise #eth #dogecoin \\n$spx $sp...   tsla  \n",
       "1                        $TSLA crash kills two in #Texas    tsla  \n",
       "2       RT  Setups and Watch List, 4/18: $TSLA $SNAP $...   tsla  \n",
       "3       $GOOGL Has been a leader in FANG. Over 2300 we...   tsla  \n",
       "4       Few stocks in the news this weekend \\n$DIS $CO...   tsla  \n",
       "...                                                   ...    ...  \n",
       "203606  RT  Palantir might be on pause, but is the opt...   pltr  \n",
       "203607  RT  Palantir might be on pause, but is the opt...   pltr  \n",
       "203608  $PLTR update dropped to demand to give us a be...   pltr  \n",
       "203609  Our alerted contracts were able to make $78% p...   pltr  \n",
       "203610  RT  $SPY is on fire🔥🔥\\nfollow our latest updat...   pltr  \n",
       "\n",
       "[203611 rows x 7 columns]"
      ]
     },
     "execution_count": 142,
     "metadata": {},
     "output_type": "execute_result"
    }
   ],
   "source": [
    "tweets"
   ]
  },
  {
   "cell_type": "code",
   "execution_count": 160,
   "metadata": {},
   "outputs": [],
   "source": [
    "start_date = min(tweets['date'])\n",
    "end_date = max(tweets['date'])"
   ]
  },
  {
   "cell_type": "code",
   "execution_count": 161,
   "metadata": {},
   "outputs": [
    {
     "ename": "AttributeError",
     "evalue": "'str' object has no attribute 'weekday'",
     "output_type": "error",
     "traceback": [
      "\u001b[0;31m---------------------------------------------------------------------------\u001b[0m",
      "\u001b[0;31mAttributeError\u001b[0m                            Traceback (most recent call last)",
      "\u001b[0;32m<ipython-input-161-85c6542ab137>\u001b[0m in \u001b[0;36m<module>\u001b[0;34m\u001b[0m\n\u001b[0;32m----> 1\u001b[0;31m \u001b[0mstart_date\u001b[0m\u001b[0;34m.\u001b[0m\u001b[0mweekday\u001b[0m\u001b[0;34m(\u001b[0m\u001b[0;34m)\u001b[0m\u001b[0;34m\u001b[0m\u001b[0;34m\u001b[0m\u001b[0m\n\u001b[0m",
      "\u001b[0;31mAttributeError\u001b[0m: 'str' object has no attribute 'weekday'"
     ]
    }
   ],
   "source": [
    "start_date.weekday()"
   ]
  },
  {
   "cell_type": "code",
   "execution_count": 145,
   "metadata": {},
   "outputs": [
    {
     "data": {
      "text/plain": [
       "1"
      ]
     },
     "execution_count": 145,
     "metadata": {},
     "output_type": "execute_result"
    }
   ],
   "source": [
    "end_date.weekday()"
   ]
  },
  {
   "cell_type": "code",
   "execution_count": 147,
   "metadata": {},
   "outputs": [],
   "source": [
    "tweets['day'] = tweets['date'].apply(lambda date: date.weekday())"
   ]
  },
  {
   "cell_type": "code",
   "execution_count": 149,
   "metadata": {},
   "outputs": [],
   "source": [
    "tweets = tweets[(tweets['day']!=4)&(tweets['day']!=5)]"
   ]
  },
  {
   "cell_type": "code",
   "execution_count": 152,
   "metadata": {},
   "outputs": [],
   "source": [
    "tweets.drop(columns=['day'], inplace=True)"
   ]
  },
  {
   "cell_type": "code",
   "execution_count": 154,
   "metadata": {},
   "outputs": [],
   "source": [
    "tweets.reset_index(inplace=True)"
   ]
  },
  {
   "cell_type": "code",
   "execution_count": 156,
   "metadata": {},
   "outputs": [],
   "source": [
    "tweets.drop(columns=['index'], inplace=True)"
   ]
  },
  {
   "cell_type": "code",
   "execution_count": 157,
   "metadata": {},
   "outputs": [
    {
     "data": {
      "text/html": [
       "<div>\n",
       "<style scoped>\n",
       "    .dataframe tbody tr th:only-of-type {\n",
       "        vertical-align: middle;\n",
       "    }\n",
       "\n",
       "    .dataframe tbody tr th {\n",
       "        vertical-align: top;\n",
       "    }\n",
       "\n",
       "    .dataframe thead th {\n",
       "        text-align: right;\n",
       "    }\n",
       "</style>\n",
       "<table border=\"1\" class=\"dataframe\">\n",
       "  <thead>\n",
       "    <tr style=\"text-align: right;\">\n",
       "      <th></th>\n",
       "      <th>date</th>\n",
       "      <th>id</th>\n",
       "      <th>lang</th>\n",
       "      <th>probability</th>\n",
       "      <th>sentiment</th>\n",
       "      <th>text</th>\n",
       "      <th>ticker</th>\n",
       "    </tr>\n",
       "  </thead>\n",
       "  <tbody>\n",
       "    <tr>\n",
       "      <th>0</th>\n",
       "      <td>2021-04-19</td>\n",
       "      <td>1.383936e+18</td>\n",
       "      <td>en</td>\n",
       "      <td>0.788206</td>\n",
       "      <td>POSITIVE</td>\n",
       "      <td>#btc #chatter #noise #eth #dogecoin \\n$spx $sp...</td>\n",
       "      <td>tsla</td>\n",
       "    </tr>\n",
       "    <tr>\n",
       "      <th>1</th>\n",
       "      <td>2021-04-19</td>\n",
       "      <td>1.383936e+18</td>\n",
       "      <td>en</td>\n",
       "      <td>0.998966</td>\n",
       "      <td>NEGATIVE</td>\n",
       "      <td>$TSLA crash kills two in #Texas</td>\n",
       "      <td>tsla</td>\n",
       "    </tr>\n",
       "    <tr>\n",
       "      <th>2</th>\n",
       "      <td>2021-04-19</td>\n",
       "      <td>1.383936e+18</td>\n",
       "      <td>en</td>\n",
       "      <td>0.949687</td>\n",
       "      <td>POSITIVE</td>\n",
       "      <td>RT  Setups and Watch List, 4/18: $TSLA $SNAP $...</td>\n",
       "      <td>tsla</td>\n",
       "    </tr>\n",
       "    <tr>\n",
       "      <th>3</th>\n",
       "      <td>2021-04-19</td>\n",
       "      <td>1.383936e+18</td>\n",
       "      <td>en</td>\n",
       "      <td>0.535232</td>\n",
       "      <td>NEGATIVE</td>\n",
       "      <td>$GOOGL Has been a leader in FANG. Over 2300 we...</td>\n",
       "      <td>tsla</td>\n",
       "    </tr>\n",
       "    <tr>\n",
       "      <th>4</th>\n",
       "      <td>2021-04-19</td>\n",
       "      <td>1.383936e+18</td>\n",
       "      <td>en</td>\n",
       "      <td>0.966784</td>\n",
       "      <td>NEGATIVE</td>\n",
       "      <td>Few stocks in the news this weekend \\n$DIS $CO...</td>\n",
       "      <td>tsla</td>\n",
       "    </tr>\n",
       "    <tr>\n",
       "      <th>...</th>\n",
       "      <td>...</td>\n",
       "      <td>...</td>\n",
       "      <td>...</td>\n",
       "      <td>...</td>\n",
       "      <td>...</td>\n",
       "      <td>...</td>\n",
       "      <td>...</td>\n",
       "    </tr>\n",
       "    <tr>\n",
       "      <th>148838</th>\n",
       "      <td>2021-04-13</td>\n",
       "      <td>1.381844e+18</td>\n",
       "      <td>en</td>\n",
       "      <td>0.999822</td>\n",
       "      <td>NEGATIVE</td>\n",
       "      <td>RT  Palantir might be on pause, but is the opt...</td>\n",
       "      <td>pltr</td>\n",
       "    </tr>\n",
       "    <tr>\n",
       "      <th>148839</th>\n",
       "      <td>2021-04-13</td>\n",
       "      <td>1.381844e+18</td>\n",
       "      <td>en</td>\n",
       "      <td>0.999822</td>\n",
       "      <td>NEGATIVE</td>\n",
       "      <td>RT  Palantir might be on pause, but is the opt...</td>\n",
       "      <td>pltr</td>\n",
       "    </tr>\n",
       "    <tr>\n",
       "      <th>148840</th>\n",
       "      <td>2021-04-13</td>\n",
       "      <td>1.381843e+18</td>\n",
       "      <td>en</td>\n",
       "      <td>0.999841</td>\n",
       "      <td>NEGATIVE</td>\n",
       "      <td>$PLTR update dropped to demand to give us a be...</td>\n",
       "      <td>pltr</td>\n",
       "    </tr>\n",
       "    <tr>\n",
       "      <th>148841</th>\n",
       "      <td>2021-04-13</td>\n",
       "      <td>1.381843e+18</td>\n",
       "      <td>en</td>\n",
       "      <td>0.751278</td>\n",
       "      <td>POSITIVE</td>\n",
       "      <td>Our alerted contracts were able to make $78% p...</td>\n",
       "      <td>pltr</td>\n",
       "    </tr>\n",
       "    <tr>\n",
       "      <th>148842</th>\n",
       "      <td>2021-04-13</td>\n",
       "      <td>1.381843e+18</td>\n",
       "      <td>en</td>\n",
       "      <td>0.992087</td>\n",
       "      <td>NEGATIVE</td>\n",
       "      <td>RT  $SPY is on fire🔥🔥\\nfollow our latest updat...</td>\n",
       "      <td>pltr</td>\n",
       "    </tr>\n",
       "  </tbody>\n",
       "</table>\n",
       "<p>148843 rows × 7 columns</p>\n",
       "</div>"
      ],
      "text/plain": [
       "             date            id lang  probability sentiment  \\\n",
       "0      2021-04-19  1.383936e+18   en     0.788206  POSITIVE   \n",
       "1      2021-04-19  1.383936e+18   en     0.998966  NEGATIVE   \n",
       "2      2021-04-19  1.383936e+18   en     0.949687  POSITIVE   \n",
       "3      2021-04-19  1.383936e+18   en     0.535232  NEGATIVE   \n",
       "4      2021-04-19  1.383936e+18   en     0.966784  NEGATIVE   \n",
       "...           ...           ...  ...          ...       ...   \n",
       "148838 2021-04-13  1.381844e+18   en     0.999822  NEGATIVE   \n",
       "148839 2021-04-13  1.381844e+18   en     0.999822  NEGATIVE   \n",
       "148840 2021-04-13  1.381843e+18   en     0.999841  NEGATIVE   \n",
       "148841 2021-04-13  1.381843e+18   en     0.751278  POSITIVE   \n",
       "148842 2021-04-13  1.381843e+18   en     0.992087  NEGATIVE   \n",
       "\n",
       "                                                     text ticker  \n",
       "0       #btc #chatter #noise #eth #dogecoin \\n$spx $sp...   tsla  \n",
       "1                        $TSLA crash kills two in #Texas    tsla  \n",
       "2       RT  Setups and Watch List, 4/18: $TSLA $SNAP $...   tsla  \n",
       "3       $GOOGL Has been a leader in FANG. Over 2300 we...   tsla  \n",
       "4       Few stocks in the news this weekend \\n$DIS $CO...   tsla  \n",
       "...                                                   ...    ...  \n",
       "148838  RT  Palantir might be on pause, but is the opt...   pltr  \n",
       "148839  RT  Palantir might be on pause, but is the opt...   pltr  \n",
       "148840  $PLTR update dropped to demand to give us a be...   pltr  \n",
       "148841  Our alerted contracts were able to make $78% p...   pltr  \n",
       "148842  RT  $SPY is on fire🔥🔥\\nfollow our latest updat...   pltr  \n",
       "\n",
       "[148843 rows x 7 columns]"
      ]
     },
     "execution_count": 157,
     "metadata": {},
     "output_type": "execute_result"
    }
   ],
   "source": [
    "tweets"
   ]
  },
  {
   "cell_type": "markdown",
   "metadata": {},
   "source": [
    "# Figuring out how to get average sentiment"
   ]
  },
  {
   "cell_type": "code",
   "execution_count": 105,
   "metadata": {},
   "outputs": [
    {
     "data": {
      "text/plain": [
       "48752"
      ]
     },
     "execution_count": 105,
     "metadata": {},
     "output_type": "execute_result"
    }
   ],
   "source": [
    "tsla = tweets[tweets['ticker']=='tsla']\n",
    "len(tsla)"
   ]
  },
  {
   "cell_type": "code",
   "execution_count": 8,
   "metadata": {},
   "outputs": [
    {
     "name": "stdout",
     "output_type": "stream",
     "text": [
      "[*********************100%***********************]  1 of 1 completed\n"
     ]
    }
   ],
   "source": [
    "tsla_data = get_stock_data('tsla',start_date,end_date)"
   ]
  },
  {
   "cell_type": "code",
   "execution_count": 9,
   "metadata": {},
   "outputs": [
    {
     "data": {
      "text/html": [
       "<div>\n",
       "<style scoped>\n",
       "    .dataframe tbody tr th:only-of-type {\n",
       "        vertical-align: middle;\n",
       "    }\n",
       "\n",
       "    .dataframe tbody tr th {\n",
       "        vertical-align: top;\n",
       "    }\n",
       "\n",
       "    .dataframe thead th {\n",
       "        text-align: right;\n",
       "    }\n",
       "</style>\n",
       "<table border=\"1\" class=\"dataframe\">\n",
       "  <thead>\n",
       "    <tr style=\"text-align: right;\">\n",
       "      <th></th>\n",
       "      <th>open</th>\n",
       "      <th>high</th>\n",
       "      <th>low</th>\n",
       "      <th>close</th>\n",
       "      <th>volume</th>\n",
       "    </tr>\n",
       "    <tr>\n",
       "      <th>dt</th>\n",
       "      <th></th>\n",
       "      <th></th>\n",
       "      <th></th>\n",
       "      <th></th>\n",
       "      <th></th>\n",
       "    </tr>\n",
       "  </thead>\n",
       "  <tbody>\n",
       "    <tr>\n",
       "      <th>2021-04-12</th>\n",
       "      <td>685.700012</td>\n",
       "      <td>704.799988</td>\n",
       "      <td>682.090027</td>\n",
       "      <td>701.979980</td>\n",
       "      <td>29135700</td>\n",
       "    </tr>\n",
       "    <tr>\n",
       "      <th>2021-04-13</th>\n",
       "      <td>712.700012</td>\n",
       "      <td>763.000000</td>\n",
       "      <td>710.659973</td>\n",
       "      <td>762.320007</td>\n",
       "      <td>44652800</td>\n",
       "    </tr>\n",
       "    <tr>\n",
       "      <th>2021-04-14</th>\n",
       "      <td>770.700012</td>\n",
       "      <td>780.789978</td>\n",
       "      <td>728.030029</td>\n",
       "      <td>732.229980</td>\n",
       "      <td>49017400</td>\n",
       "    </tr>\n",
       "    <tr>\n",
       "      <th>2021-04-15</th>\n",
       "      <td>743.099976</td>\n",
       "      <td>743.690002</td>\n",
       "      <td>721.309998</td>\n",
       "      <td>738.849976</td>\n",
       "      <td>27848900</td>\n",
       "    </tr>\n",
       "    <tr>\n",
       "      <th>2021-04-16</th>\n",
       "      <td>728.650024</td>\n",
       "      <td>749.409973</td>\n",
       "      <td>724.599976</td>\n",
       "      <td>739.780029</td>\n",
       "      <td>27924000</td>\n",
       "    </tr>\n",
       "  </tbody>\n",
       "</table>\n",
       "</div>"
      ],
      "text/plain": [
       "                  open        high         low       close    volume\n",
       "dt                                                                  \n",
       "2021-04-12  685.700012  704.799988  682.090027  701.979980  29135700\n",
       "2021-04-13  712.700012  763.000000  710.659973  762.320007  44652800\n",
       "2021-04-14  770.700012  780.789978  728.030029  732.229980  49017400\n",
       "2021-04-15  743.099976  743.690002  721.309998  738.849976  27848900\n",
       "2021-04-16  728.650024  749.409973  724.599976  739.780029  27924000"
      ]
     },
     "execution_count": 9,
     "metadata": {},
     "output_type": "execute_result"
    }
   ],
   "source": [
    "tsla_data"
   ]
  },
  {
   "cell_type": "code",
   "execution_count": 10,
   "metadata": {},
   "outputs": [],
   "source": [
    "def data_prep(data):\n",
    "    df = pd.DataFrame(data=None, columns=['fracChange'])\n",
    "    df['fracChange'] = (data['close']-data['open'])/data['open']\n",
    "\n",
    "    return df"
   ]
  },
  {
   "cell_type": "code",
   "execution_count": 21,
   "metadata": {},
   "outputs": [],
   "source": [
    "def calc_avg_sentiment(df,date):\n",
    "    subdf = tweets[tweets['date'] == date]\n",
    "    sentiment = subdf['sentiment'].values\n",
    "    print(len(sentiment))\n",
    "    avg_sentiment = sum([-1 if s == 'NEGATIVE' else 1 for s in sentiment])/len(sentiment)\n",
    "    return avg_sentiment"
   ]
  },
  {
   "cell_type": "code",
   "execution_count": 22,
   "metadata": {},
   "outputs": [],
   "source": [
    "tsla_frac_change = data_prep(tsla_data)"
   ]
  },
  {
   "cell_type": "code",
   "execution_count": 23,
   "metadata": {},
   "outputs": [
    {
     "data": {
      "text/html": [
       "<div>\n",
       "<style scoped>\n",
       "    .dataframe tbody tr th:only-of-type {\n",
       "        vertical-align: middle;\n",
       "    }\n",
       "\n",
       "    .dataframe tbody tr th {\n",
       "        vertical-align: top;\n",
       "    }\n",
       "\n",
       "    .dataframe thead th {\n",
       "        text-align: right;\n",
       "    }\n",
       "</style>\n",
       "<table border=\"1\" class=\"dataframe\">\n",
       "  <thead>\n",
       "    <tr style=\"text-align: right;\">\n",
       "      <th></th>\n",
       "      <th>fracChange</th>\n",
       "    </tr>\n",
       "    <tr>\n",
       "      <th>dt</th>\n",
       "      <th></th>\n",
       "    </tr>\n",
       "  </thead>\n",
       "  <tbody>\n",
       "    <tr>\n",
       "      <th>2021-04-12</th>\n",
       "      <td>0.023742</td>\n",
       "    </tr>\n",
       "    <tr>\n",
       "      <th>2021-04-13</th>\n",
       "      <td>0.069623</td>\n",
       "    </tr>\n",
       "    <tr>\n",
       "      <th>2021-04-14</th>\n",
       "      <td>-0.049916</td>\n",
       "    </tr>\n",
       "    <tr>\n",
       "      <th>2021-04-15</th>\n",
       "      <td>-0.005719</td>\n",
       "    </tr>\n",
       "    <tr>\n",
       "      <th>2021-04-16</th>\n",
       "      <td>0.015275</td>\n",
       "    </tr>\n",
       "  </tbody>\n",
       "</table>\n",
       "</div>"
      ],
      "text/plain": [
       "            fracChange\n",
       "dt                    \n",
       "2021-04-12    0.023742\n",
       "2021-04-13    0.069623\n",
       "2021-04-14   -0.049916\n",
       "2021-04-15   -0.005719\n",
       "2021-04-16    0.015275"
      ]
     },
     "execution_count": 23,
     "metadata": {},
     "output_type": "execute_result"
    }
   ],
   "source": [
    "tsla_frac_change"
   ]
  },
  {
   "cell_type": "code",
   "execution_count": 24,
   "metadata": {},
   "outputs": [],
   "source": [
    "dates = tsla['date'].unique()"
   ]
  },
  {
   "cell_type": "code",
   "execution_count": 25,
   "metadata": {},
   "outputs": [
    {
     "name": "stdout",
     "output_type": "stream",
     "text": [
      "452\n",
      "10695\n",
      "10286\n",
      "12705\n",
      "13089\n",
      "13832\n",
      "13416\n",
      "10147\n"
     ]
    }
   ],
   "source": [
    "avg_sent = []\n",
    "for date in dates:\n",
    "    avg_sent.append(calc_avg_sentiment(tsla,date))"
   ]
  },
  {
   "cell_type": "code",
   "execution_count": 16,
   "metadata": {},
   "outputs": [
    {
     "data": {
      "text/plain": [
       "[-0.048672566371681415,\n",
       " -0.032819074333800845,\n",
       " -0.008944195994555707,\n",
       " -0.046674537583628495,\n",
       " -0.061349224539689814,\n",
       " -0.0670908039329092,\n",
       " -0.11553369111508646,\n",
       " -0.05114812259781216]"
      ]
     },
     "execution_count": 16,
     "metadata": {},
     "output_type": "execute_result"
    }
   ],
   "source": [
    "avg_sent"
   ]
  },
  {
   "cell_type": "code",
   "execution_count": 17,
   "metadata": {},
   "outputs": [
    {
     "data": {
      "text/plain": [
       "array(['2021-04-19', '2021-04-18', '2021-04-17', '2021-04-16',\n",
       "       '2021-04-15', '2021-04-14', '2021-04-13', '2021-04-12'],\n",
       "      dtype=object)"
      ]
     },
     "execution_count": 17,
     "metadata": {},
     "output_type": "execute_result"
    }
   ],
   "source": [
    "dates"
   ]
  },
  {
   "cell_type": "code",
   "execution_count": 19,
   "metadata": {},
   "outputs": [],
   "source": [
    "dates = tweets['date'].unique()\n",
    "dates = [d for d in dates if type(d)==str and d[0]=='2']"
   ]
  },
  {
   "cell_type": "code",
   "execution_count": 20,
   "metadata": {},
   "outputs": [
    {
     "data": {
      "text/plain": [
       "['2021-04-19',\n",
       " '2021-04-18',\n",
       " '2021-04-17',\n",
       " '2021-04-16',\n",
       " '2021-04-15',\n",
       " '2021-04-14',\n",
       " '2021-04-13',\n",
       " '2021-04-12']"
      ]
     },
     "execution_count": 20,
     "metadata": {},
     "output_type": "execute_result"
    }
   ],
   "source": [
    "dates"
   ]
  },
  {
   "cell_type": "code",
   "execution_count": 51,
   "metadata": {},
   "outputs": [],
   "source": [
    "tsla_frac_change = tsla_frac_change[1:]"
   ]
  },
  {
   "cell_type": "code",
   "execution_count": 52,
   "metadata": {},
   "outputs": [
    {
     "data": {
      "text/html": [
       "<div>\n",
       "<style scoped>\n",
       "    .dataframe tbody tr th:only-of-type {\n",
       "        vertical-align: middle;\n",
       "    }\n",
       "\n",
       "    .dataframe tbody tr th {\n",
       "        vertical-align: top;\n",
       "    }\n",
       "\n",
       "    .dataframe thead th {\n",
       "        text-align: right;\n",
       "    }\n",
       "</style>\n",
       "<table border=\"1\" class=\"dataframe\">\n",
       "  <thead>\n",
       "    <tr style=\"text-align: right;\">\n",
       "      <th></th>\n",
       "      <th>fracChange</th>\n",
       "    </tr>\n",
       "    <tr>\n",
       "      <th>dt</th>\n",
       "      <th></th>\n",
       "    </tr>\n",
       "  </thead>\n",
       "  <tbody>\n",
       "    <tr>\n",
       "      <th>2021-04-13</th>\n",
       "      <td>0.069623</td>\n",
       "    </tr>\n",
       "    <tr>\n",
       "      <th>2021-04-14</th>\n",
       "      <td>-0.049916</td>\n",
       "    </tr>\n",
       "    <tr>\n",
       "      <th>2021-04-15</th>\n",
       "      <td>-0.005719</td>\n",
       "    </tr>\n",
       "    <tr>\n",
       "      <th>2021-04-16</th>\n",
       "      <td>0.015275</td>\n",
       "    </tr>\n",
       "  </tbody>\n",
       "</table>\n",
       "</div>"
      ],
      "text/plain": [
       "            fracChange\n",
       "dt                    \n",
       "2021-04-13    0.069623\n",
       "2021-04-14   -0.049916\n",
       "2021-04-15   -0.005719\n",
       "2021-04-16    0.015275"
      ]
     },
     "execution_count": 52,
     "metadata": {},
     "output_type": "execute_result"
    }
   ],
   "source": [
    "tsla_frac_change"
   ]
  },
  {
   "cell_type": "code",
   "execution_count": 57,
   "metadata": {},
   "outputs": [],
   "source": [
    "avg_sent = list(reversed(avg_sent))"
   ]
  },
  {
   "cell_type": "code",
   "execution_count": 59,
   "metadata": {},
   "outputs": [],
   "source": [
    "avg_sent = avg_sent[:4]"
   ]
  },
  {
   "cell_type": "code",
   "execution_count": 60,
   "metadata": {},
   "outputs": [
    {
     "data": {
      "text/plain": [
       "[-0.05114812259781216,\n",
       " -0.11553369111508646,\n",
       " -0.0670908039329092,\n",
       " -0.061349224539689814]"
      ]
     },
     "execution_count": 60,
     "metadata": {},
     "output_type": "execute_result"
    }
   ],
   "source": [
    "avg_sent"
   ]
  },
  {
   "cell_type": "code",
   "execution_count": 61,
   "metadata": {},
   "outputs": [],
   "source": [
    "tsla_frac_change['avg_sent'] = avg_sent"
   ]
  },
  {
   "cell_type": "code",
   "execution_count": 62,
   "metadata": {},
   "outputs": [
    {
     "data": {
      "text/html": [
       "<div>\n",
       "<style scoped>\n",
       "    .dataframe tbody tr th:only-of-type {\n",
       "        vertical-align: middle;\n",
       "    }\n",
       "\n",
       "    .dataframe tbody tr th {\n",
       "        vertical-align: top;\n",
       "    }\n",
       "\n",
       "    .dataframe thead th {\n",
       "        text-align: right;\n",
       "    }\n",
       "</style>\n",
       "<table border=\"1\" class=\"dataframe\">\n",
       "  <thead>\n",
       "    <tr style=\"text-align: right;\">\n",
       "      <th></th>\n",
       "      <th>fracChange</th>\n",
       "      <th>avg_sent</th>\n",
       "    </tr>\n",
       "    <tr>\n",
       "      <th>dt</th>\n",
       "      <th></th>\n",
       "      <th></th>\n",
       "    </tr>\n",
       "  </thead>\n",
       "  <tbody>\n",
       "    <tr>\n",
       "      <th>2021-04-13</th>\n",
       "      <td>0.069623</td>\n",
       "      <td>-0.051148</td>\n",
       "    </tr>\n",
       "    <tr>\n",
       "      <th>2021-04-14</th>\n",
       "      <td>-0.049916</td>\n",
       "      <td>-0.115534</td>\n",
       "    </tr>\n",
       "    <tr>\n",
       "      <th>2021-04-15</th>\n",
       "      <td>-0.005719</td>\n",
       "      <td>-0.067091</td>\n",
       "    </tr>\n",
       "    <tr>\n",
       "      <th>2021-04-16</th>\n",
       "      <td>0.015275</td>\n",
       "      <td>-0.061349</td>\n",
       "    </tr>\n",
       "  </tbody>\n",
       "</table>\n",
       "</div>"
      ],
      "text/plain": [
       "            fracChange  avg_sent\n",
       "dt                              \n",
       "2021-04-13    0.069623 -0.051148\n",
       "2021-04-14   -0.049916 -0.115534\n",
       "2021-04-15   -0.005719 -0.067091\n",
       "2021-04-16    0.015275 -0.061349"
      ]
     },
     "execution_count": 62,
     "metadata": {},
     "output_type": "execute_result"
    }
   ],
   "source": [
    "tsla_frac_change"
   ]
  },
  {
   "cell_type": "code",
   "execution_count": 65,
   "metadata": {},
   "outputs": [
    {
     "data": {
      "image/png": "[encoded data removed]",
      "text/plain": [
       "<Figure size 432x288 with 1 Axes>"
      ]
     },
     "metadata": {
      "needs_background": "light"
     },
     "output_type": "display_data"
    }
   ],
   "source": [
    "_ = tsla_frac_change.plot()"
   ]
  },
  {
   "cell_type": "code",
   "execution_count": 64,
   "metadata": {},
   "outputs": [
    {
     "data": {
      "text/html": [
       "<div>\n",
       "<style scoped>\n",
       "    .dataframe tbody tr th:only-of-type {\n",
       "        vertical-align: middle;\n",
       "    }\n",
       "\n",
       "    .dataframe tbody tr th {\n",
       "        vertical-align: top;\n",
       "    }\n",
       "\n",
       "    .dataframe thead th {\n",
       "        text-align: right;\n",
       "    }\n",
       "</style>\n",
       "<table border=\"1\" class=\"dataframe\">\n",
       "  <thead>\n",
       "    <tr style=\"text-align: right;\">\n",
       "      <th></th>\n",
       "      <th>date</th>\n",
       "      <th>id</th>\n",
       "      <th>lang</th>\n",
       "      <th>probability</th>\n",
       "      <th>sentiment</th>\n",
       "      <th>text</th>\n",
       "      <th>ticker</th>\n",
       "    </tr>\n",
       "  </thead>\n",
       "  <tbody>\n",
       "    <tr>\n",
       "      <th>0</th>\n",
       "      <td>2021-04-19</td>\n",
       "      <td>1.383936e+18</td>\n",
       "      <td>en</td>\n",
       "      <td>0.788206</td>\n",
       "      <td>POSITIVE</td>\n",
       "      <td>#btc #chatter #noise #eth #dogecoin \\n$spx $sp...</td>\n",
       "      <td>tsla</td>\n",
       "    </tr>\n",
       "    <tr>\n",
       "      <th>1</th>\n",
       "      <td>2021-04-19</td>\n",
       "      <td>1.383936e+18</td>\n",
       "      <td>en</td>\n",
       "      <td>0.998966</td>\n",
       "      <td>NEGATIVE</td>\n",
       "      <td>$TSLA crash kills two in #Texas</td>\n",
       "      <td>tsla</td>\n",
       "    </tr>\n",
       "    <tr>\n",
       "      <th>2</th>\n",
       "      <td>2021-04-19</td>\n",
       "      <td>1.383936e+18</td>\n",
       "      <td>en</td>\n",
       "      <td>0.949687</td>\n",
       "      <td>POSITIVE</td>\n",
       "      <td>RT  Setups and Watch List, 4/18: $TSLA $SNAP $...</td>\n",
       "      <td>tsla</td>\n",
       "    </tr>\n",
       "    <tr>\n",
       "      <th>3</th>\n",
       "      <td>2021-04-19</td>\n",
       "      <td>1.383936e+18</td>\n",
       "      <td>en</td>\n",
       "      <td>0.535232</td>\n",
       "      <td>NEGATIVE</td>\n",
       "      <td>$GOOGL Has been a leader in FANG. Over 2300 we...</td>\n",
       "      <td>tsla</td>\n",
       "    </tr>\n",
       "    <tr>\n",
       "      <th>4</th>\n",
       "      <td>2021-04-19</td>\n",
       "      <td>1.383936e+18</td>\n",
       "      <td>en</td>\n",
       "      <td>0.966784</td>\n",
       "      <td>NEGATIVE</td>\n",
       "      <td>Few stocks in the news this weekend \\n$DIS $CO...</td>\n",
       "      <td>tsla</td>\n",
       "    </tr>\n",
       "    <tr>\n",
       "      <th>...</th>\n",
       "      <td>...</td>\n",
       "      <td>...</td>\n",
       "      <td>...</td>\n",
       "      <td>...</td>\n",
       "      <td>...</td>\n",
       "      <td>...</td>\n",
       "      <td>...</td>\n",
       "    </tr>\n",
       "    <tr>\n",
       "      <th>16241</th>\n",
       "      <td>2021-04-12</td>\n",
       "      <td>1.381483e+18</td>\n",
       "      <td>en</td>\n",
       "      <td>0.945080</td>\n",
       "      <td>NEGATIVE</td>\n",
       "      <td>RT  Pick your basket? It's April 2026 which gr...</td>\n",
       "      <td>tsla</td>\n",
       "    </tr>\n",
       "    <tr>\n",
       "      <th>16242</th>\n",
       "      <td>2021-04-12</td>\n",
       "      <td>1.381483e+18</td>\n",
       "      <td>en</td>\n",
       "      <td>0.996286</td>\n",
       "      <td>NEGATIVE</td>\n",
       "      <td>RT  This week there’s a slew of macro indicato...</td>\n",
       "      <td>tsla</td>\n",
       "    </tr>\n",
       "    <tr>\n",
       "      <th>16243</th>\n",
       "      <td>2021-04-12</td>\n",
       "      <td>1.381483e+18</td>\n",
       "      <td>en</td>\n",
       "      <td>0.999100</td>\n",
       "      <td>NEGATIVE</td>\n",
       "      <td>Gamestop Corp. (GME), Square (SQ), Tesla Motor...</td>\n",
       "      <td>tsla</td>\n",
       "    </tr>\n",
       "    <tr>\n",
       "      <th>16244</th>\n",
       "      <td>2021-04-12</td>\n",
       "      <td>1.381483e+18</td>\n",
       "      <td>en</td>\n",
       "      <td>0.900235</td>\n",
       "      <td>NEGATIVE</td>\n",
       "      <td>RT  Early in $FB (2007)\\nEarly in  (2011)\\nEar...</td>\n",
       "      <td>tsla</td>\n",
       "    </tr>\n",
       "    <tr>\n",
       "      <th>16245</th>\n",
       "      <td>2021-04-12</td>\n",
       "      <td>1.381483e+18</td>\n",
       "      <td>en</td>\n",
       "      <td>0.963490</td>\n",
       "      <td>POSITIVE</td>\n",
       "      <td>🚨Team RVR's Top 5 Trending Tickers on Twitter,...</td>\n",
       "      <td>tsla</td>\n",
       "    </tr>\n",
       "  </tbody>\n",
       "</table>\n",
       "<p>16243 rows × 7 columns</p>\n",
       "</div>"
      ],
      "text/plain": [
       "             date            id lang  probability sentiment  \\\n",
       "0      2021-04-19  1.383936e+18   en     0.788206  POSITIVE   \n",
       "1      2021-04-19  1.383936e+18   en     0.998966  NEGATIVE   \n",
       "2      2021-04-19  1.383936e+18   en     0.949687  POSITIVE   \n",
       "3      2021-04-19  1.383936e+18   en     0.535232  NEGATIVE   \n",
       "4      2021-04-19  1.383936e+18   en     0.966784  NEGATIVE   \n",
       "...           ...           ...  ...          ...       ...   \n",
       "16241  2021-04-12  1.381483e+18   en     0.945080  NEGATIVE   \n",
       "16242  2021-04-12  1.381483e+18   en     0.996286  NEGATIVE   \n",
       "16243  2021-04-12  1.381483e+18   en     0.999100  NEGATIVE   \n",
       "16244  2021-04-12  1.381483e+18   en     0.900235  NEGATIVE   \n",
       "16245  2021-04-12  1.381483e+18   en     0.963490  POSITIVE   \n",
       "\n",
       "                                                    text ticker  \n",
       "0      #btc #chatter #noise #eth #dogecoin \\n$spx $sp...   tsla  \n",
       "1                       $TSLA crash kills two in #Texas    tsla  \n",
       "2      RT  Setups and Watch List, 4/18: $TSLA $SNAP $...   tsla  \n",
       "3      $GOOGL Has been a leader in FANG. Over 2300 we...   tsla  \n",
       "4      Few stocks in the news this weekend \\n$DIS $CO...   tsla  \n",
       "...                                                  ...    ...  \n",
       "16241  RT  Pick your basket? It's April 2026 which gr...   tsla  \n",
       "16242  RT  This week there’s a slew of macro indicato...   tsla  \n",
       "16243  Gamestop Corp. (GME), Square (SQ), Tesla Motor...   tsla  \n",
       "16244  RT  Early in $FB (2007)\\nEarly in  (2011)\\nEar...   tsla  \n",
       "16245  🚨Team RVR's Top 5 Trending Tickers on Twitter,...   tsla  \n",
       "\n",
       "[16243 rows x 7 columns]"
      ]
     },
     "execution_count": 64,
     "metadata": {},
     "output_type": "execute_result"
    }
   ],
   "source": [
    "tsla"
   ]
  },
  {
   "cell_type": "code",
   "execution_count": 67,
   "metadata": {},
   "outputs": [
    {
     "data": {
      "text/plain": [
       "<matplotlib.collections.PathCollection at 0x7fb0a703fe80>"
      ]
     },
     "execution_count": 67,
     "metadata": {},
     "output_type": "execute_result"
    },
    {
     "data": {
      "image/png": "[encoded data removed]",
      "text/plain": [
       "<Figure size 432x288 with 1 Axes>"
      ]
     },
     "metadata": {
      "needs_background": "light"
     },
     "output_type": "display_data"
    }
   ],
   "source": [
    "plt.scatter(x=tsla_frac_change['avg_sent'],y=tsla_frac_change['fracChange'])"
   ]
  },
  {
   "cell_type": "markdown",
   "metadata": {},
   "source": [
    "# General idea of how to get average sentiment / stock data"
   ]
  },
  {
   "cell_type": "code",
   "execution_count": 91,
   "metadata": {},
   "outputs": [],
   "source": [
    "def gen_data(df,ticker):\n",
    "    ticker_data = tweets[tweets['ticker']==ticker]\n",
    "    ticker_prices = get_stock_data(ticker,start_date,end_date)\n",
    "    ticker_frac_change = data_prep(ticker_prices)\n",
    "    dates = ticker_data['date'].unique()\n",
    "    avg_sent = []\n",
    "    for date in dates:\n",
    "        avg_sent.append(calc_avg_sentiment(tsla,date))\n",
    "    ticker_frac_change = ticker_frac_change[1:]\n",
    "    avg_sent = list(reversed(avg_sent))\n",
    "    avg_sent = avg_sent[:4]\n",
    "    ticker_frac_change['avg_sent'] = avg_sent\n",
    "    ticker_frac_change['ticker'] = ticker\n",
    "    return ticker_frac_change"
   ]
  },
  {
   "cell_type": "code",
   "execution_count": 92,
   "metadata": {},
   "outputs": [],
   "source": [
    "tickers = ['tsla', 'amzn', 'msft', 'aapl', 'gme', 'pltr']"
   ]
  },
  {
   "cell_type": "code",
   "execution_count": 96,
   "metadata": {},
   "outputs": [],
   "source": [
    "data = pd.DataFrame(columns=['fracChange','avg_sent','ticker'])e"
   ]
  },
  {
   "cell_type": "code",
   "execution_count": 97,
   "metadata": {},
   "outputs": [
    {
     "name": "stdout",
     "output_type": "stream",
     "text": [
      "[*********************100%***********************]  1 of 1 completed\n",
      "[*********************100%***********************]  1 of 1 completed\n",
      "[*********************100%***********************]  1 of 1 completed\n",
      "[*********************100%***********************]  1 of 1 completed\n",
      "[*********************100%***********************]  1 of 1 completed\n",
      "[*********************100%***********************]  1 of 1 completed\n"
     ]
    }
   ],
   "source": [
    "for ticker in tickers:\n",
    "    data = data.append(gen_data(tweets,ticker))"
   ]
  },
  {
   "cell_type": "code",
   "execution_count": 98,
   "metadata": {},
   "outputs": [
    {
     "data": {
      "text/html": [
       "<div>\n",
       "<style scoped>\n",
       "    .dataframe tbody tr th:only-of-type {\n",
       "        vertical-align: middle;\n",
       "    }\n",
       "\n",
       "    .dataframe tbody tr th {\n",
       "        vertical-align: top;\n",
       "    }\n",
       "\n",
       "    .dataframe thead th {\n",
       "        text-align: right;\n",
       "    }\n",
       "</style>\n",
       "<table border=\"1\" class=\"dataframe\">\n",
       "  <thead>\n",
       "    <tr style=\"text-align: right;\">\n",
       "      <th></th>\n",
       "      <th>fracChange</th>\n",
       "      <th>avg_sent</th>\n",
       "      <th>ticker</th>\n",
       "    </tr>\n",
       "  </thead>\n",
       "  <tbody>\n",
       "    <tr>\n",
       "      <th>2021-04-13</th>\n",
       "      <td>0.069623</td>\n",
       "      <td>-0.051148</td>\n",
       "      <td>tsla</td>\n",
       "    </tr>\n",
       "    <tr>\n",
       "      <th>2021-04-14</th>\n",
       "      <td>-0.049916</td>\n",
       "      <td>-0.115534</td>\n",
       "      <td>tsla</td>\n",
       "    </tr>\n",
       "    <tr>\n",
       "      <th>2021-04-15</th>\n",
       "      <td>-0.005719</td>\n",
       "      <td>-0.067091</td>\n",
       "      <td>tsla</td>\n",
       "    </tr>\n",
       "    <tr>\n",
       "      <th>2021-04-16</th>\n",
       "      <td>0.015275</td>\n",
       "      <td>-0.061349</td>\n",
       "      <td>tsla</td>\n",
       "    </tr>\n",
       "    <tr>\n",
       "      <th>2021-04-13</th>\n",
       "      <td>-0.000250</td>\n",
       "      <td>-0.051148</td>\n",
       "      <td>amzn</td>\n",
       "    </tr>\n",
       "    <tr>\n",
       "      <th>2021-04-14</th>\n",
       "      <td>-0.020869</td>\n",
       "      <td>-0.115534</td>\n",
       "      <td>amzn</td>\n",
       "    </tr>\n",
       "    <tr>\n",
       "      <th>2021-04-15</th>\n",
       "      <td>0.002400</td>\n",
       "      <td>-0.067091</td>\n",
       "      <td>amzn</td>\n",
       "    </tr>\n",
       "    <tr>\n",
       "      <th>2021-04-16</th>\n",
       "      <td>0.005751</td>\n",
       "      <td>-0.061349</td>\n",
       "      <td>amzn</td>\n",
       "    </tr>\n",
       "    <tr>\n",
       "      <th>2021-04-13</th>\n",
       "      <td>0.004781</td>\n",
       "      <td>-0.051148</td>\n",
       "      <td>msft</td>\n",
       "    </tr>\n",
       "    <tr>\n",
       "      <th>2021-04-14</th>\n",
       "      <td>-0.007340</td>\n",
       "      <td>-0.115534</td>\n",
       "      <td>msft</td>\n",
       "    </tr>\n",
       "    <tr>\n",
       "      <th>2021-04-15</th>\n",
       "      <td>0.006087</td>\n",
       "      <td>-0.067091</td>\n",
       "      <td>msft</td>\n",
       "    </tr>\n",
       "    <tr>\n",
       "      <th>2021-04-16</th>\n",
       "      <td>0.004895</td>\n",
       "      <td>-0.061349</td>\n",
       "      <td>msft</td>\n",
       "    </tr>\n",
       "    <tr>\n",
       "      <th>2021-04-13</th>\n",
       "      <td>0.015026</td>\n",
       "      <td>-0.051148</td>\n",
       "      <td>aapl</td>\n",
       "    </tr>\n",
       "    <tr>\n",
       "      <th>2021-04-14</th>\n",
       "      <td>-0.021565</td>\n",
       "      <td>-0.115534</td>\n",
       "      <td>aapl</td>\n",
       "    </tr>\n",
       "    <tr>\n",
       "      <th>2021-04-15</th>\n",
       "      <td>0.005081</td>\n",
       "      <td>-0.067091</td>\n",
       "      <td>aapl</td>\n",
       "    </tr>\n",
       "    <tr>\n",
       "      <th>2021-04-16</th>\n",
       "      <td>-0.001042</td>\n",
       "      <td>-0.061349</td>\n",
       "      <td>aapl</td>\n",
       "    </tr>\n",
       "    <tr>\n",
       "      <th>2021-04-13</th>\n",
       "      <td>-0.006273</td>\n",
       "      <td>-0.051148</td>\n",
       "      <td>gme</td>\n",
       "    </tr>\n",
       "    <tr>\n",
       "      <th>2021-04-14</th>\n",
       "      <td>0.159922</td>\n",
       "      <td>-0.115534</td>\n",
       "      <td>gme</td>\n",
       "    </tr>\n",
       "    <tr>\n",
       "      <th>2021-04-15</th>\n",
       "      <td>-0.040245</td>\n",
       "      <td>-0.067091</td>\n",
       "      <td>gme</td>\n",
       "    </tr>\n",
       "    <tr>\n",
       "      <th>2021-04-16</th>\n",
       "      <td>-0.008397</td>\n",
       "      <td>-0.061349</td>\n",
       "      <td>gme</td>\n",
       "    </tr>\n",
       "    <tr>\n",
       "      <th>2021-04-13</th>\n",
       "      <td>0.096162</td>\n",
       "      <td>-0.051148</td>\n",
       "      <td>pltr</td>\n",
       "    </tr>\n",
       "    <tr>\n",
       "      <th>2021-04-14</th>\n",
       "      <td>-0.065089</td>\n",
       "      <td>-0.115534</td>\n",
       "      <td>pltr</td>\n",
       "    </tr>\n",
       "    <tr>\n",
       "      <th>2021-04-15</th>\n",
       "      <td>-0.035818</td>\n",
       "      <td>-0.067091</td>\n",
       "      <td>pltr</td>\n",
       "    </tr>\n",
       "    <tr>\n",
       "      <th>2021-04-16</th>\n",
       "      <td>-0.017060</td>\n",
       "      <td>-0.061349</td>\n",
       "      <td>pltr</td>\n",
       "    </tr>\n",
       "  </tbody>\n",
       "</table>\n",
       "</div>"
      ],
      "text/plain": [
       "            fracChange  avg_sent ticker\n",
       "2021-04-13    0.069623 -0.051148   tsla\n",
       "2021-04-14   -0.049916 -0.115534   tsla\n",
       "2021-04-15   -0.005719 -0.067091   tsla\n",
       "2021-04-16    0.015275 -0.061349   tsla\n",
       "2021-04-13   -0.000250 -0.051148   amzn\n",
       "2021-04-14   -0.020869 -0.115534   amzn\n",
       "2021-04-15    0.002400 -0.067091   amzn\n",
       "2021-04-16    0.005751 -0.061349   amzn\n",
       "2021-04-13    0.004781 -0.051148   msft\n",
       "2021-04-14   -0.007340 -0.115534   msft\n",
       "2021-04-15    0.006087 -0.067091   msft\n",
       "2021-04-16    0.004895 -0.061349   msft\n",
       "2021-04-13    0.015026 -0.051148   aapl\n",
       "2021-04-14   -0.021565 -0.115534   aapl\n",
       "2021-04-15    0.005081 -0.067091   aapl\n",
       "2021-04-16   -0.001042 -0.061349   aapl\n",
       "2021-04-13   -0.006273 -0.051148    gme\n",
       "2021-04-14    0.159922 -0.115534    gme\n",
       "2021-04-15   -0.040245 -0.067091    gme\n",
       "2021-04-16   -0.008397 -0.061349    gme\n",
       "2021-04-13    0.096162 -0.051148   pltr\n",
       "2021-04-14   -0.065089 -0.115534   pltr\n",
       "2021-04-15   -0.035818 -0.067091   pltr\n",
       "2021-04-16   -0.017060 -0.061349   pltr"
      ]
     },
     "execution_count": 98,
     "metadata": {},
     "output_type": "execute_result"
    }
   ],
   "source": [
    "data"
   ]
  },
  {
   "cell_type": "code",
   "execution_count": 101,
   "metadata": {},
   "outputs": [
    {
     "data": {
      "image/png": "[encoded data removed]",
      "text/plain": [
       "<Figure size 432x288 with 1 Axes>"
      ]
     },
     "metadata": {
      "needs_background": "light"
     },
     "output_type": "display_data"
    },
    {
     "data": {
      "image/png": "[encoded data removed]",
      "text/plain": [
       "<Figure size 432x288 with 1 Axes>"
      ]
     },
     "metadata": {
      "needs_background": "light"
     },
     "output_type": "display_data"
    },
    {
     "data": {
      "image/png": "[encoded data removed]",
      "text/plain": [
       "<Figure size 432x288 with 1 Axes>"
      ]
     },
     "metadata": {
      "needs_background": "light"
     },
     "output_type": "display_data"
    },
    {
     "data": {
      "image/png": "[encoded data removed]",
      "text/plain": [
       "<Figure size 432x288 with 1 Axes>"
      ]
     },
     "metadata": {
      "needs_background": "light"
     },
     "output_type": "display_data"
    },
    {
     "data": {
      "image/png": "[encoded data removed]",
      "text/plain": [
       "<Figure size 432x288 with 1 Axes>"
      ]
     },
     "metadata": {
      "needs_background": "light"
     },
     "output_type": "display_data"
    },
    {
     "data": {
      "image/png": "[encoded data removed]",
      "text/plain": [
       "<Figure size 432x288 with 1 Axes>"
      ]
     },
     "metadata": {
      "needs_background": "light"
     },
     "output_type": "display_data"
    }
   ],
   "source": [
    "for ticker in tickers:\n",
    "    _ = data[data['ticker']==ticker].plot(title=ticker)"
   ]
  },
  {
   "cell_type": "markdown",
   "metadata": {},
   "source": [
    "# Linear regression\n",
    "\n",
    "trying to capture the relationship between previous days average sentiment (x) and next days fractional change (y)"
   ]
  },
  {
   "cell_type": "code",
   "execution_count": 144,
   "metadata": {},
   "outputs": [],
   "source": [
    "lin_data = data[data['ticker'] != 'gme']\n",
    "x = np.array(lin_data['avg_sent'])\n",
    "y = np.array(lin_data['fracChange'])"
   ]
  },
  {
   "cell_type": "code",
   "execution_count": 145,
   "metadata": {},
   "outputs": [],
   "source": [
    "from sklearn.linear_model import LinearRegression"
   ]
  },
  {
   "cell_type": "code",
   "execution_count": 146,
   "metadata": {},
   "outputs": [],
   "source": [
    "model = LinearRegression().fit(x.reshape(-1,1),y.reshape(-1,1))"
   ]
  },
  {
   "cell_type": "code",
   "execution_count": 147,
   "metadata": {},
   "outputs": [],
   "source": [
    "y_pred = model.predict(x.reshape(-1,1))"
   ]
  },
  {
   "cell_type": "code",
   "execution_count": 148,
   "metadata": {},
   "outputs": [
    {
     "data": {
      "text/plain": [
       "[<matplotlib.lines.Line2D at 0x7fb0a8721d30>]"
      ]
     },
     "execution_count": 148,
     "metadata": {},
     "output_type": "execute_result"
    },
    {
     "data": {
      "image/png": "[encoded data removed]",
      "text/plain": [
       "<Figure size 432x288 with 1 Axes>"
      ]
     },
     "metadata": {
      "needs_background": "light"
     },
     "output_type": "display_data"
    }
   ],
   "source": [
    "plt.scatter(x,y,c='tab:blue')\n",
    "plt.plot(x,y_pred,c='tab:green',lw=3)"
   ]
  },
  {
   "cell_type": "code",
   "execution_count": 175,
   "metadata": {},
   "outputs": [],
   "source": [
    "tsla_data = tsla_data[1:]"
   ]
  },
  {
   "cell_type": "code",
   "execution_count": 176,
   "metadata": {},
   "outputs": [
    {
     "data": {
      "text/html": [
       "<div>\n",
       "<style scoped>\n",
       "    .dataframe tbody tr th:only-of-type {\n",
       "        vertical-align: middle;\n",
       "    }\n",
       "\n",
       "    .dataframe tbody tr th {\n",
       "        vertical-align: top;\n",
       "    }\n",
       "\n",
       "    .dataframe thead th {\n",
       "        text-align: right;\n",
       "    }\n",
       "</style>\n",
       "<table border=\"1\" class=\"dataframe\">\n",
       "  <thead>\n",
       "    <tr style=\"text-align: right;\">\n",
       "      <th></th>\n",
       "      <th>open</th>\n",
       "      <th>high</th>\n",
       "      <th>low</th>\n",
       "      <th>close</th>\n",
       "      <th>volume</th>\n",
       "    </tr>\n",
       "    <tr>\n",
       "      <th>dt</th>\n",
       "      <th></th>\n",
       "      <th></th>\n",
       "      <th></th>\n",
       "      <th></th>\n",
       "      <th></th>\n",
       "    </tr>\n",
       "  </thead>\n",
       "  <tbody>\n",
       "    <tr>\n",
       "      <th>2021-04-13</th>\n",
       "      <td>712.700012</td>\n",
       "      <td>763.000000</td>\n",
       "      <td>710.659973</td>\n",
       "      <td>762.320007</td>\n",
       "      <td>44652800</td>\n",
       "    </tr>\n",
       "    <tr>\n",
       "      <th>2021-04-14</th>\n",
       "      <td>770.700012</td>\n",
       "      <td>780.789978</td>\n",
       "      <td>728.030029</td>\n",
       "      <td>732.229980</td>\n",
       "      <td>49017400</td>\n",
       "    </tr>\n",
       "    <tr>\n",
       "      <th>2021-04-15</th>\n",
       "      <td>743.099976</td>\n",
       "      <td>743.690002</td>\n",
       "      <td>721.309998</td>\n",
       "      <td>738.849976</td>\n",
       "      <td>27848900</td>\n",
       "    </tr>\n",
       "    <tr>\n",
       "      <th>2021-04-16</th>\n",
       "      <td>728.650024</td>\n",
       "      <td>749.409973</td>\n",
       "      <td>724.599976</td>\n",
       "      <td>739.780029</td>\n",
       "      <td>27924000</td>\n",
       "    </tr>\n",
       "  </tbody>\n",
       "</table>\n",
       "</div>"
      ],
      "text/plain": [
       "                  open        high         low       close    volume\n",
       "dt                                                                  \n",
       "2021-04-13  712.700012  763.000000  710.659973  762.320007  44652800\n",
       "2021-04-14  770.700012  780.789978  728.030029  732.229980  49017400\n",
       "2021-04-15  743.099976  743.690002  721.309998  738.849976  27848900\n",
       "2021-04-16  728.650024  749.409973  724.599976  739.780029  27924000"
      ]
     },
     "execution_count": 176,
     "metadata": {},
     "output_type": "execute_result"
    }
   ],
   "source": [
    "tsla_data"
   ]
  },
  {
   "cell_type": "markdown",
   "metadata": {},
   "source": [
    "# Using fitted regression model to predict"
   ]
  },
  {
   "cell_type": "code",
   "execution_count": 177,
   "metadata": {},
   "outputs": [],
   "source": [
    "true_closes = tsla_data['close'].values\n",
    "true_opens = tsla_data['open'].values\n",
    "obs = lin_data[lin_data['ticker']=='tsla']['avg_sent'].values"
   ]
  },
  {
   "cell_type": "code",
   "execution_count": 178,
   "metadata": {},
   "outputs": [
    {
     "data": {
      "text/plain": [
       "array([-0.05114812, -0.11553369, -0.0670908 , -0.06134922])"
      ]
     },
     "execution_count": 178,
     "metadata": {},
     "output_type": "execute_result"
    }
   ],
   "source": [
    "obs"
   ]
  },
  {
   "cell_type": "code",
   "execution_count": 179,
   "metadata": {},
   "outputs": [],
   "source": [
    "preds = []\n",
    "for i in range(len(true_closes)):\n",
    "    pred_change = model.predict(obs[i].reshape(-1,1))\n",
    "    pred_close = pred_change[0]*true_opens[i]+true_opens[i]\n",
    "    preds.append(pred_close)"
   ]
  },
  {
   "cell_type": "code",
   "execution_count": 180,
   "metadata": {},
   "outputs": [
    {
     "data": {
      "image/png": "[encoded data removed]",
      "text/plain": [
       "<Figure size 1080x360 with 1 Axes>"
      ]
     },
     "metadata": {
      "needs_background": "light"
     },
     "output_type": "display_data"
    }
   ],
   "source": [
    "fig, ax = plt.subplots(figsize=(15,5))\n",
    "ax.set_title('Sentiment Analysis TSLA forecasted vs actual stock prices 2021-04-13 to 2021-04-16')\n",
    "time = range(len(preds))\n",
    "ax.plot(time,preds,color='tab:red',marker='s',markersize=2,linestyle='-',linewidth=1,label='forcast')\n",
    "ax.plot(time,true_closes,color='tab:blue',marker='s',markersize=2,linestyle='-',linewidth=1,label='actual')\n",
    "ax.set_xlabel('time')\n",
    "ax.set_ylabel('stock price ($)')\n",
    "ax.set_xticks(np.arange(0,len(preds),1))\n",
    "ax.set_xlim(0,len(preds))\n",
    "ax.xaxis.grid(True,ls='--')\n",
    "ax.yaxis.grid(True,ls='--')\n",
    "ax.legend()\n",
    "plt.show()"
   ]
  },
  {
   "cell_type": "code",
   "execution_count": 181,
   "metadata": {},
   "outputs": [
    {
     "name": "stdout",
     "output_type": "stream",
     "text": [
      "[*********************100%***********************]  1 of 1 completed\n"
     ]
    }
   ],
   "source": [
    "amzn_data = get_stock_data('AMZN',start_date,end_date)\n",
    "amzn_data = amzn_data[1:]\n",
    "true_closes = amzn_data['close'].values\n",
    "true_opens = amzn_data['open'].values\n",
    "obs = lin_data[lin_data['ticker']=='amzn']['avg_sent'].values\n",
    "preds = []\n",
    "for i in range(len(true_closes)):\n",
    "    pred_change = model.predict(obs[i].reshape(-1,1))\n",
    "    pred_close = pred_change[0]*true_opens[i]+true_opens[i]\n",
    "    preds.append(pred_close)"
   ]
  },
  {
   "cell_type": "code",
   "execution_count": 182,
   "metadata": {},
   "outputs": [
    {
     "data": {
      "image/png": "[encoded data removed]",
      "text/plain": [
       "<Figure size 1080x360 with 1 Axes>"
      ]
     },
     "metadata": {
      "needs_background": "light"
     },
     "output_type": "display_data"
    }
   ],
   "source": [
    "fig, ax = plt.subplots(figsize=(15,5))\n",
    "ax.set_title('Sentiment Analysis AMZN forecasted vs actual stock prices 2021-04-13 to 2021-04-16')\n",
    "time = range(len(preds))\n",
    "ax.plot(time,preds,color='tab:red',marker='s',markersize=2,linestyle='-',linewidth=1,label='forcast')\n",
    "ax.plot(time,true_closes,color='tab:blue',marker='s',markersize=2,linestyle='-',linewidth=1,label='actual')\n",
    "ax.set_xlabel('time')\n",
    "ax.set_ylabel('stock price ($)')\n",
    "ax.set_xticks(np.arange(0,len(preds),1))\n",
    "ax.set_xlim(0,len(preds))\n",
    "ax.xaxis.grid(True,ls='--')\n",
    "ax.yaxis.grid(True,ls='--')\n",
    "ax.legend()\n",
    "plt.show()"
   ]
  },
  {
   "cell_type": "code",
   "execution_count": 185,
   "metadata": {},
   "outputs": [
    {
     "name": "stdout",
     "output_type": "stream",
     "text": [
      "[*********************100%***********************]  1 of 1 completed\n"
     ]
    }
   ],
   "source": [
    "msft_data = get_stock_data('MSFT',start_date,end_date)\n",
    "msft_data = msft_data[1:]\n",
    "true_closes = msft_data['close'].values\n",
    "true_opens = msft_data['open'].values\n",
    "obs = lin_data[lin_data['ticker']=='msft']['avg_sent'].values\n",
    "preds = []\n",
    "for i in range(len(true_closes)):\n",
    "    pred_change = model.predict(obs[i].reshape(-1,1))\n",
    "    pred_close = pred_change[0]*true_opens[i]+true_opens[i]\n",
    "    preds.append(pred_close)"
   ]
  },
  {
   "cell_type": "code",
   "execution_count": 186,
   "metadata": {},
   "outputs": [
    {
     "data": {
      "image/png": "[encoded data removed]",
      "text/plain": [
       "<Figure size 1080x360 with 1 Axes>"
      ]
     },
     "metadata": {
      "needs_background": "light"
     },
     "output_type": "display_data"
    }
   ],
   "source": [
    "fig, ax = plt.subplots(figsize=(15,5))\n",
    "ax.set_title('Sentiment Analysis MSFT forecasted vs actual stock prices 2021-04-13 to 2021-04-16')\n",
    "time = range(len(preds))\n",
    "ax.plot(time,preds,color='tab:red',marker='s',markersize=2,linestyle='-',linewidth=1,label='forcast')\n",
    "ax.plot(time,true_closes,color='tab:blue',marker='s',markersize=2,linestyle='-',linewidth=1,label='actual')\n",
    "ax.set_xlabel('time')\n",
    "ax.set_ylabel('stock price ($)')\n",
    "ax.set_xticks(np.arange(0,len(preds),1))\n",
    "ax.set_xlim(0,len(preds))\n",
    "ax.xaxis.grid(True,ls='--')\n",
    "ax.yaxis.grid(True,ls='--')\n",
    "ax.legend()\n",
    "plt.show()"
   ]
  },
  {
   "cell_type": "code",
   "execution_count": 187,
   "metadata": {},
   "outputs": [
    {
     "name": "stdout",
     "output_type": "stream",
     "text": [
      "[*********************100%***********************]  1 of 1 completed\n"
     ]
    }
   ],
   "source": [
    "aapl_data = get_stock_data('AAPL',start_date,end_date)\n",
    "aapl_data = aapl_data[1:]\n",
    "true_closes = aapl_data['close'].values\n",
    "true_opens = aapl_data['open'].values\n",
    "obs = lin_data[lin_data['ticker']=='aapl']['avg_sent'].values\n",
    "preds = []\n",
    "for i in range(len(true_closes)):\n",
    "    pred_change = model.predict(obs[i].reshape(-1,1))\n",
    "    pred_close = pred_change[0]*true_opens[i]+true_opens[i]\n",
    "    preds.append(pred_close)"
   ]
  },
  {
   "cell_type": "code",
   "execution_count": 188,
   "metadata": {},
   "outputs": [
    {
     "data": {
      "image/png": "[encoded data removed]",
      "text/plain": [
       "<Figure size 1080x360 with 1 Axes>"
      ]
     },
     "metadata": {
      "needs_background": "light"
     },
     "output_type": "display_data"
    }
   ],
   "source": [
    "fig, ax = plt.subplots(figsize=(15,5))\n",
    "ax.set_title('Sentiment Analysis AAPL forecasted vs actual stock prices 2021-04-13 to 2021-04-16')\n",
    "time = range(len(preds))\n",
    "ax.plot(time,preds,color='tab:red',marker='s',markersize=2,linestyle='-',linewidth=1,label='forcast')\n",
    "ax.plot(time,true_closes,color='tab:blue',marker='s',markersize=2,linestyle='-',linewidth=1,label='actual')\n",
    "ax.set_xlabel('time')\n",
    "ax.set_ylabel('stock price ($)')\n",
    "ax.set_xticks(np.arange(0,len(preds),1))\n",
    "ax.set_xlim(0,len(preds))\n",
    "ax.xaxis.grid(True,ls='--')\n",
    "ax.yaxis.grid(True,ls='--')\n",
    "ax.legend()\n",
    "plt.show()"
   ]
  },
  {
   "cell_type": "code",
   "execution_count": 189,
   "metadata": {},
   "outputs": [
    {
     "name": "stdout",
     "output_type": "stream",
     "text": [
      "[*********************100%***********************]  1 of 1 completed\n"
     ]
    }
   ],
   "source": [
    "pltr_data = get_stock_data('PLTR',start_date,end_date)\n",
    "pltr_data = pltr_data[1:]\n",
    "true_closes = pltr_data['close'].values\n",
    "true_opens = pltr_data['open'].values\n",
    "obs = lin_data[lin_data['ticker']=='pltr']['avg_sent'].values\n",
    "preds = []\n",
    "for i in range(len(true_closes)):\n",
    "    pred_change = model.predict(obs[i].reshape(-1,1))\n",
    "    pred_close = pred_change[0]*true_opens[i]+true_opens[i]\n",
    "    preds.append(pred_close)"
   ]
  },
  {
   "cell_type": "code",
   "execution_count": 190,
   "metadata": {},
   "outputs": [
    {
     "data": {
      "image/png": "[encoded data removed]",
      "text/plain": [
       "<Figure size 1080x360 with 1 Axes>"
      ]
     },
     "metadata": {
      "needs_background": "light"
     },
     "output_type": "display_data"
    }
   ],
   "source": [
    "fig, ax = plt.subplots(figsize=(15,5))\n",
    "ax.set_title('Sentiment Analysis PLTR forecasted vs actual stock prices 2021-04-13 to 2021-04-16')\n",
    "time = range(len(preds))\n",
    "ax.plot(time,preds,color='tab:red',marker='s',markersize=2,linestyle='-',linewidth=1,label='forcast')\n",
    "ax.plot(time,true_closes,color='tab:blue',marker='s',markersize=2,linestyle='-',linewidth=1,label='actual')\n",
    "ax.set_xlabel('time')\n",
    "ax.set_ylabel('stock price ($)')\n",
    "ax.set_xticks(np.arange(0,len(preds),1))\n",
    "ax.set_xlim(0,len(preds))\n",
    "ax.xaxis.grid(True,ls='--')\n",
    "ax.yaxis.grid(True,ls='--')\n",
    "ax.legend()\n",
    "plt.show()"
   ]
  },
  {
   "cell_type": "code",
   "execution_count": null,
   "metadata": {},
   "outputs": [],
   "source": []
  }
 ],
 "metadata": {
  "kernelspec": {
   "display_name": "proj_env",
   "language": "python",
   "name": "proj_env"
  },
  "language_info": {
   "codemirror_mode": {
    "name": "ipython",
    "version": 3
   },
   "file_extension": ".py",
   "mimetype": "text/x-python",
   "name": "python",
   "nbconvert_exporter": "python",
   "pygments_lexer": "ipython3",
   "version": "3.6.7"
  }
 },
 "nbformat": 4,
 "nbformat_minor": 4
}
