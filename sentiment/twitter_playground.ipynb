{
 "cells": [
  {
   "cell_type": "code",
   "execution_count": 32,
   "metadata": {},
   "outputs": [],
   "source": [
    "# https://towardsdatascience.com/sentiment-analysis-for-stock-price-prediction-in-python-bed40c65d178\n",
    "# http://importpython.blogspot.com/2014/07/how-to-convert-date-formats-from.html\n",
    "# https://stackoverflow.com/questions/43557254/how-to-clean-a-tweet-using-regex-without-removing-punctuations-and-hasthag"
   ]
  },
  {
   "cell_type": "code",
   "execution_count": 33,
   "metadata": {},
   "outputs": [],
   "source": [
    "import requests\n",
    "import json\n",
    "from datetime import datetime, timedelta\n",
    "import pandas as pd\n",
    "import numpy as np\n",
    "import matplotlib.pyplot as plt\n",
    "import flair\n",
    "import re"
   ]
  },
  {
   "cell_type": "code",
   "execution_count": 34,
   "metadata": {},
   "outputs": [],
   "source": [
    "with open('tokens.txt') as f:\n",
    "    token = f.read()\n",
    "    token = token.strip('\\n')"
   ]
  },
  {
   "cell_type": "code",
   "execution_count": 52,
   "metadata": {},
   "outputs": [],
   "source": [
    "date_format = '%Y-%m-%dT%H:%M:%SZ'\n",
    "start_date='2021-04-13'\n",
    "end_date='2021-04-19'\n",
    "start_obj = datetime.strptime(start_date,'%Y-%m-%d')\n",
    "start = start_obj.strftime(date_format)\n",
    "end_obj = datetime.strptime(end_date,'%Y-%m-%d')\n",
    "end = end_obj.strftime(date_format)"
   ]
  },
  {
   "cell_type": "code",
   "execution_count": 137,
   "metadata": {},
   "outputs": [],
   "source": [
    "params = {\n",
    "    'query': '(tesla OR tsla) (lang:en)',\n",
    "    'tweet.fields': 'created_at,lang',\n",
    "    'max_results': '100',\n",
    "    'start_time': start,\n",
    "    'end_time': end\n",
    "}\n",
    "headers = {'authorization': f'Bearer {token}'}"
   ]
  },
  {
   "cell_type": "code",
   "execution_count": 54,
   "metadata": {},
   "outputs": [],
   "source": [
    "response = requests.get(\n",
    "    'https://api.twitter.com/2/tweets/search/recent',\n",
    "    params=params,\n",
    "    headers=headers\n",
    ")"
   ]
  },
  {
   "cell_type": "code",
   "execution_count": 72,
   "metadata": {},
   "outputs": [
    {
     "name": "stdout",
     "output_type": "stream",
     "text": [
      "2021-04-18 22:02:37,290 loading file /Users/rowlavel/.flair/models/sentiment-en-mix-distillbert_4.pt\n"
     ]
    }
   ],
   "source": [
    "model = flair.models.TextClassifier.load('en-sentiment')"
   ]
  },
  {
   "cell_type": "code",
   "execution_count": 73,
   "metadata": {},
   "outputs": [],
   "source": [
    "def clean_tweet(tweet):\n",
    "    return re.sub(r'@\\S+|https?://\\S+', '', tweet)"
   ]
  },
  {
   "cell_type": "code",
   "execution_count": 74,
   "metadata": {},
   "outputs": [],
   "source": [
    "def format_tweet(tweet):\n",
    "    data = {\n",
    "        'id': tweet['id'],\n",
    "        'date': tweet['created_at'],\n",
    "        'lang': tweet['lang'],\n",
    "        'text': clean_tweet(tweet['text'])\n",
    "    }\n",
    "\n",
    "    # sentiment analysis using flair\n",
    "    sentence = flair.data.Sentence(text=data['text'])\n",
    "    pred = model.predict(sentence)\n",
    "\n",
    "    data['probability'] = sentence.labels[0].score\n",
    "    data['sentiment'] = sentence.labels[0].value\n",
    "\n",
    "    return data"
   ]
  },
  {
   "cell_type": "code",
   "execution_count": 75,
   "metadata": {},
   "outputs": [],
   "source": [
    "# get more data by scraping 100 tweets every 60 minutes\n",
    "def backup(now):\n",
    "    now = datetime.strptime(now,date_format)\n",
    "    back = now - timedelta(minutes=60)\n",
    "    return back.strftime(date_format)"
   ]
  },
  {
   "cell_type": "code",
   "execution_count": 138,
   "metadata": {},
   "outputs": [
    {
     "name": "stdout",
     "output_type": "stream",
     "text": [
      "2021-04-11 23:01:23.111543\n",
      "2021-04-18T23:01:23Z\n",
      "163\r"
     ]
    },
    {
     "ename": "KeyError",
     "evalue": "'data'",
     "output_type": "error",
     "traceback": [
      "\u001b[0;31m---------------------------------------------------------------------------\u001b[0m",
      "\u001b[0;31mKeyError\u001b[0m                                  Traceback (most recent call last)",
      "\u001b[0;32m<ipython-input-138-008f4ca53050>\u001b[0m in \u001b[0;36m<module>\u001b[0;34m\u001b[0m\n\u001b[1;32m     26\u001b[0m     \u001b[0mnow\u001b[0m \u001b[0;34m=\u001b[0m \u001b[0mback\u001b[0m\u001b[0;34m\u001b[0m\u001b[0;34m\u001b[0m\u001b[0m\n\u001b[1;32m     27\u001b[0m \u001b[0;34m\u001b[0m\u001b[0m\n\u001b[0;32m---> 28\u001b[0;31m     \u001b[0;32mfor\u001b[0m \u001b[0mtweet\u001b[0m \u001b[0;32min\u001b[0m \u001b[0mresponse\u001b[0m\u001b[0;34m.\u001b[0m\u001b[0mjson\u001b[0m\u001b[0;34m(\u001b[0m\u001b[0;34m)\u001b[0m\u001b[0;34m[\u001b[0m\u001b[0;34m'data'\u001b[0m\u001b[0;34m]\u001b[0m\u001b[0;34m:\u001b[0m\u001b[0;34m\u001b[0m\u001b[0;34m\u001b[0m\u001b[0m\n\u001b[0m\u001b[1;32m     29\u001b[0m         \u001b[0mtweets\u001b[0m \u001b[0;34m=\u001b[0m \u001b[0mtweets\u001b[0m\u001b[0;34m.\u001b[0m\u001b[0mappend\u001b[0m\u001b[0;34m(\u001b[0m\u001b[0mformat_tweet\u001b[0m\u001b[0;34m(\u001b[0m\u001b[0mtweet\u001b[0m\u001b[0;34m)\u001b[0m\u001b[0;34m,\u001b[0m \u001b[0mignore_index\u001b[0m\u001b[0;34m=\u001b[0m\u001b[0;32mTrue\u001b[0m\u001b[0;34m)\u001b[0m\u001b[0;34m\u001b[0m\u001b[0;34m\u001b[0m\u001b[0m\n",
      "\u001b[0;31mKeyError\u001b[0m: 'data'"
     ]
    }
   ],
   "source": [
    "tweets = pd.DataFrame()\n",
    "now = datetime.now()\n",
    "last_week = now-timedelta(days=7)\n",
    "now = now.strftime(date_format)\n",
    "i = 0\n",
    "\n",
    "print(last_week)\n",
    "print(now)\n",
    "while True:\n",
    "    if datetime.strptime(now,date_format) < last_week:\n",
    "        break\n",
    "        \n",
    "    print(i, end='\\r', flush=True)\n",
    "    i += 1\n",
    "    back = backup(now)\n",
    "    \n",
    "    params['start_time'] = back\n",
    "    params['end_time'] = now\n",
    "    \n",
    "    response = requests.get(\n",
    "        'https://api.twitter.com/2/tweets/search/recent',\n",
    "        params=params,\n",
    "        headers=headers\n",
    "    )\n",
    "    \n",
    "    now = back\n",
    "    \n",
    "    for tweet in response.json()['data']:\n",
    "        tweets = tweets.append(format_tweet(tweet), ignore_index=True)"
   ]
  },
  {
   "cell_type": "code",
   "execution_count": 139,
   "metadata": {},
   "outputs": [
    {
     "data": {
      "text/html": [
       "<div>\n",
       "<style scoped>\n",
       "    .dataframe tbody tr th:only-of-type {\n",
       "        vertical-align: middle;\n",
       "    }\n",
       "\n",
       "    .dataframe tbody tr th {\n",
       "        vertical-align: top;\n",
       "    }\n",
       "\n",
       "    .dataframe thead th {\n",
       "        text-align: right;\n",
       "    }\n",
       "</style>\n",
       "<table border=\"1\" class=\"dataframe\">\n",
       "  <thead>\n",
       "    <tr style=\"text-align: right;\">\n",
       "      <th></th>\n",
       "      <th>date</th>\n",
       "      <th>id</th>\n",
       "      <th>lang</th>\n",
       "      <th>probability</th>\n",
       "      <th>sentiment</th>\n",
       "      <th>text</th>\n",
       "    </tr>\n",
       "  </thead>\n",
       "  <tbody>\n",
       "    <tr>\n",
       "      <th>0</th>\n",
       "      <td>2021-04-18T23:01:21.000Z</td>\n",
       "      <td>1383918602537951232</td>\n",
       "      <td>en</td>\n",
       "      <td>0.998802</td>\n",
       "      <td>NEGATIVE</td>\n",
       "      <td>I feel sorry for you If you sell before $TSLA...</td>\n",
       "    </tr>\n",
       "    <tr>\n",
       "      <th>1</th>\n",
       "      <td>2021-04-18T23:01:21.000Z</td>\n",
       "      <td>1383918601938235398</td>\n",
       "      <td>en</td>\n",
       "      <td>0.956833</td>\n",
       "      <td>POSITIVE</td>\n",
       "      <td>Motley Crue and Tesla.  Dr. Feelgood tour</td>\n",
       "    </tr>\n",
       "    <tr>\n",
       "      <th>2</th>\n",
       "      <td>2021-04-18T23:01:20.000Z</td>\n",
       "      <td>1383918597437677578</td>\n",
       "      <td>en</td>\n",
       "      <td>0.995796</td>\n",
       "      <td>POSITIVE</td>\n",
       "      <td>✨ Participate in the April #Webull wheel event...</td>\n",
       "    </tr>\n",
       "    <tr>\n",
       "      <th>3</th>\n",
       "      <td>2021-04-18T23:01:17.000Z</td>\n",
       "      <td>1383918585509138445</td>\n",
       "      <td>en</td>\n",
       "      <td>0.999586</td>\n",
       "      <td>NEGATIVE</td>\n",
       "      <td>RT  Who thinks Mr. Musk will announce Tesla ac...</td>\n",
       "    </tr>\n",
       "    <tr>\n",
       "      <th>4</th>\n",
       "      <td>2021-04-18T23:01:16.000Z</td>\n",
       "      <td>1383918580631097347</td>\n",
       "      <td>en</td>\n",
       "      <td>0.995796</td>\n",
       "      <td>POSITIVE</td>\n",
       "      <td>✨ Participate in the April #Webull wheel event...</td>\n",
       "    </tr>\n",
       "    <tr>\n",
       "      <th>...</th>\n",
       "      <td>...</td>\n",
       "      <td>...</td>\n",
       "      <td>...</td>\n",
       "      <td>...</td>\n",
       "      <td>...</td>\n",
       "      <td>...</td>\n",
       "    </tr>\n",
       "    <tr>\n",
       "      <th>16183</th>\n",
       "      <td>2021-04-12T04:55:25.000Z</td>\n",
       "      <td>1381470993034702850</td>\n",
       "      <td>en</td>\n",
       "      <td>0.990167</td>\n",
       "      <td>POSITIVE</td>\n",
       "      <td>$TSLA $NIO $MVIS and EV sector\\nEV space laggi...</td>\n",
       "    </tr>\n",
       "    <tr>\n",
       "      <th>16184</th>\n",
       "      <td>2021-04-12T04:55:19.000Z</td>\n",
       "      <td>1381470966144921600</td>\n",
       "      <td>en</td>\n",
       "      <td>0.753576</td>\n",
       "      <td>POSITIVE</td>\n",
       "      <td>RT  “Tesla’s long-term competitive advantage w...</td>\n",
       "    </tr>\n",
       "    <tr>\n",
       "      <th>16185</th>\n",
       "      <td>2021-04-12T04:55:18.000Z</td>\n",
       "      <td>1381470960629387268</td>\n",
       "      <td>en</td>\n",
       "      <td>0.980765</td>\n",
       "      <td>NEGATIVE</td>\n",
       "      <td>RT  Guys its confirmed Corpse has a Tesla took...</td>\n",
       "    </tr>\n",
       "    <tr>\n",
       "      <th>16186</th>\n",
       "      <td>2021-04-12T04:55:16.000Z</td>\n",
       "      <td>1381470953687764995</td>\n",
       "      <td>en</td>\n",
       "      <td>0.995136</td>\n",
       "      <td>NEGATIVE</td>\n",
       "      <td>Well, in the deluded world Elon fanatic...</td>\n",
       "    </tr>\n",
       "    <tr>\n",
       "      <th>16187</th>\n",
       "      <td>2021-04-12T04:55:07.000Z</td>\n",
       "      <td>1381470915716739081</td>\n",
       "      <td>en</td>\n",
       "      <td>0.996950</td>\n",
       "      <td>POSITIVE</td>\n",
       "      <td>RT  World's one of the most technologically ad...</td>\n",
       "    </tr>\n",
       "  </tbody>\n",
       "</table>\n",
       "<p>16188 rows × 6 columns</p>\n",
       "</div>"
      ],
      "text/plain": [
       "                           date                   id lang  probability  \\\n",
       "0      2021-04-18T23:01:21.000Z  1383918602537951232   en     0.998802   \n",
       "1      2021-04-18T23:01:21.000Z  1383918601938235398   en     0.956833   \n",
       "2      2021-04-18T23:01:20.000Z  1383918597437677578   en     0.995796   \n",
       "3      2021-04-18T23:01:17.000Z  1383918585509138445   en     0.999586   \n",
       "4      2021-04-18T23:01:16.000Z  1383918580631097347   en     0.995796   \n",
       "...                         ...                  ...  ...          ...   \n",
       "16183  2021-04-12T04:55:25.000Z  1381470993034702850   en     0.990167   \n",
       "16184  2021-04-12T04:55:19.000Z  1381470966144921600   en     0.753576   \n",
       "16185  2021-04-12T04:55:18.000Z  1381470960629387268   en     0.980765   \n",
       "16186  2021-04-12T04:55:16.000Z  1381470953687764995   en     0.995136   \n",
       "16187  2021-04-12T04:55:07.000Z  1381470915716739081   en     0.996950   \n",
       "\n",
       "      sentiment                                               text  \n",
       "0      NEGATIVE   I feel sorry for you If you sell before $TSLA...  \n",
       "1      POSITIVE          Motley Crue and Tesla.  Dr. Feelgood tour  \n",
       "2      POSITIVE  ✨ Participate in the April #Webull wheel event...  \n",
       "3      NEGATIVE  RT  Who thinks Mr. Musk will announce Tesla ac...  \n",
       "4      POSITIVE  ✨ Participate in the April #Webull wheel event...  \n",
       "...         ...                                                ...  \n",
       "16183  POSITIVE  $TSLA $NIO $MVIS and EV sector\\nEV space laggi...  \n",
       "16184  POSITIVE  RT  “Tesla’s long-term competitive advantage w...  \n",
       "16185  NEGATIVE  RT  Guys its confirmed Corpse has a Tesla took...  \n",
       "16186  NEGATIVE         Well, in the deluded world Elon fanatic...  \n",
       "16187  POSITIVE  RT  World's one of the most technologically ad...  \n",
       "\n",
       "[16188 rows x 6 columns]"
      ]
     },
     "execution_count": 139,
     "metadata": {},
     "output_type": "execute_result"
    }
   ],
   "source": [
    "tweets"
   ]
  },
  {
   "cell_type": "code",
   "execution_count": 140,
   "metadata": {},
   "outputs": [],
   "source": [
    "point = tweets.iloc[0]"
   ]
  },
  {
   "cell_type": "code",
   "execution_count": 141,
   "metadata": {},
   "outputs": [
    {
     "data": {
      "text/plain": [
       "date                                    2021-04-18T23:01:21.000Z\n",
       "id                                           1383918602537951232\n",
       "lang                                                          en\n",
       "probability                                             0.998802\n",
       "sentiment                                               NEGATIVE\n",
       "text            I feel sorry for you If you sell before $TSLA...\n",
       "Name: 0, dtype: object"
      ]
     },
     "execution_count": 141,
     "metadata": {},
     "output_type": "execute_result"
    }
   ],
   "source": [
    "point"
   ]
  },
  {
   "cell_type": "code",
   "execution_count": 142,
   "metadata": {},
   "outputs": [
    {
     "data": {
      "text/plain": [
       "'2021-04-18T23:01:21.000Z'"
      ]
     },
     "execution_count": 142,
     "metadata": {},
     "output_type": "execute_result"
    }
   ],
   "source": [
    "point['date']"
   ]
  },
  {
   "cell_type": "code",
   "execution_count": 143,
   "metadata": {},
   "outputs": [],
   "source": [
    "date = datetime.strptime(point['date'], '%Y-%m-%dT%H:%M:%S.%fZ')"
   ]
  },
  {
   "cell_type": "code",
   "execution_count": 144,
   "metadata": {},
   "outputs": [
    {
     "data": {
      "text/plain": [
       "'2021-04-18'"
      ]
     },
     "execution_count": 144,
     "metadata": {},
     "output_type": "execute_result"
    }
   ],
   "source": [
    "date.strftime('%Y-%m-%d')"
   ]
  },
  {
   "cell_type": "code",
   "execution_count": 145,
   "metadata": {},
   "outputs": [],
   "source": [
    "def convert_date(date):\n",
    "    date = datetime.strptime(date, '%Y-%m-%dT%H:%M:%S.%fZ')\n",
    "    return date.strftime('%Y-%m-%d')"
   ]
  },
  {
   "cell_type": "code",
   "execution_count": 146,
   "metadata": {},
   "outputs": [],
   "source": [
    "tweets['date'] = tweets['date'].apply(convert_date)"
   ]
  },
  {
   "cell_type": "code",
   "execution_count": 147,
   "metadata": {},
   "outputs": [
    {
     "data": {
      "text/html": [
       "<div>\n",
       "<style scoped>\n",
       "    .dataframe tbody tr th:only-of-type {\n",
       "        vertical-align: middle;\n",
       "    }\n",
       "\n",
       "    .dataframe tbody tr th {\n",
       "        vertical-align: top;\n",
       "    }\n",
       "\n",
       "    .dataframe thead th {\n",
       "        text-align: right;\n",
       "    }\n",
       "</style>\n",
       "<table border=\"1\" class=\"dataframe\">\n",
       "  <thead>\n",
       "    <tr style=\"text-align: right;\">\n",
       "      <th></th>\n",
       "      <th>date</th>\n",
       "      <th>id</th>\n",
       "      <th>lang</th>\n",
       "      <th>probability</th>\n",
       "      <th>sentiment</th>\n",
       "      <th>text</th>\n",
       "    </tr>\n",
       "  </thead>\n",
       "  <tbody>\n",
       "    <tr>\n",
       "      <th>0</th>\n",
       "      <td>2021-04-18</td>\n",
       "      <td>1383918602537951232</td>\n",
       "      <td>en</td>\n",
       "      <td>0.998802</td>\n",
       "      <td>NEGATIVE</td>\n",
       "      <td>I feel sorry for you If you sell before $TSLA...</td>\n",
       "    </tr>\n",
       "    <tr>\n",
       "      <th>1</th>\n",
       "      <td>2021-04-18</td>\n",
       "      <td>1383918601938235398</td>\n",
       "      <td>en</td>\n",
       "      <td>0.956833</td>\n",
       "      <td>POSITIVE</td>\n",
       "      <td>Motley Crue and Tesla.  Dr. Feelgood tour</td>\n",
       "    </tr>\n",
       "    <tr>\n",
       "      <th>2</th>\n",
       "      <td>2021-04-18</td>\n",
       "      <td>1383918597437677578</td>\n",
       "      <td>en</td>\n",
       "      <td>0.995796</td>\n",
       "      <td>POSITIVE</td>\n",
       "      <td>✨ Participate in the April #Webull wheel event...</td>\n",
       "    </tr>\n",
       "    <tr>\n",
       "      <th>3</th>\n",
       "      <td>2021-04-18</td>\n",
       "      <td>1383918585509138445</td>\n",
       "      <td>en</td>\n",
       "      <td>0.999586</td>\n",
       "      <td>NEGATIVE</td>\n",
       "      <td>RT  Who thinks Mr. Musk will announce Tesla ac...</td>\n",
       "    </tr>\n",
       "    <tr>\n",
       "      <th>4</th>\n",
       "      <td>2021-04-18</td>\n",
       "      <td>1383918580631097347</td>\n",
       "      <td>en</td>\n",
       "      <td>0.995796</td>\n",
       "      <td>POSITIVE</td>\n",
       "      <td>✨ Participate in the April #Webull wheel event...</td>\n",
       "    </tr>\n",
       "    <tr>\n",
       "      <th>...</th>\n",
       "      <td>...</td>\n",
       "      <td>...</td>\n",
       "      <td>...</td>\n",
       "      <td>...</td>\n",
       "      <td>...</td>\n",
       "      <td>...</td>\n",
       "    </tr>\n",
       "    <tr>\n",
       "      <th>16183</th>\n",
       "      <td>2021-04-12</td>\n",
       "      <td>1381470993034702850</td>\n",
       "      <td>en</td>\n",
       "      <td>0.990167</td>\n",
       "      <td>POSITIVE</td>\n",
       "      <td>$TSLA $NIO $MVIS and EV sector\\nEV space laggi...</td>\n",
       "    </tr>\n",
       "    <tr>\n",
       "      <th>16184</th>\n",
       "      <td>2021-04-12</td>\n",
       "      <td>1381470966144921600</td>\n",
       "      <td>en</td>\n",
       "      <td>0.753576</td>\n",
       "      <td>POSITIVE</td>\n",
       "      <td>RT  “Tesla’s long-term competitive advantage w...</td>\n",
       "    </tr>\n",
       "    <tr>\n",
       "      <th>16185</th>\n",
       "      <td>2021-04-12</td>\n",
       "      <td>1381470960629387268</td>\n",
       "      <td>en</td>\n",
       "      <td>0.980765</td>\n",
       "      <td>NEGATIVE</td>\n",
       "      <td>RT  Guys its confirmed Corpse has a Tesla took...</td>\n",
       "    </tr>\n",
       "    <tr>\n",
       "      <th>16186</th>\n",
       "      <td>2021-04-12</td>\n",
       "      <td>1381470953687764995</td>\n",
       "      <td>en</td>\n",
       "      <td>0.995136</td>\n",
       "      <td>NEGATIVE</td>\n",
       "      <td>Well, in the deluded world Elon fanatic...</td>\n",
       "    </tr>\n",
       "    <tr>\n",
       "      <th>16187</th>\n",
       "      <td>2021-04-12</td>\n",
       "      <td>1381470915716739081</td>\n",
       "      <td>en</td>\n",
       "      <td>0.996950</td>\n",
       "      <td>POSITIVE</td>\n",
       "      <td>RT  World's one of the most technologically ad...</td>\n",
       "    </tr>\n",
       "  </tbody>\n",
       "</table>\n",
       "<p>16188 rows × 6 columns</p>\n",
       "</div>"
      ],
      "text/plain": [
       "             date                   id lang  probability sentiment  \\\n",
       "0      2021-04-18  1383918602537951232   en     0.998802  NEGATIVE   \n",
       "1      2021-04-18  1383918601938235398   en     0.956833  POSITIVE   \n",
       "2      2021-04-18  1383918597437677578   en     0.995796  POSITIVE   \n",
       "3      2021-04-18  1383918585509138445   en     0.999586  NEGATIVE   \n",
       "4      2021-04-18  1383918580631097347   en     0.995796  POSITIVE   \n",
       "...           ...                  ...  ...          ...       ...   \n",
       "16183  2021-04-12  1381470993034702850   en     0.990167  POSITIVE   \n",
       "16184  2021-04-12  1381470966144921600   en     0.753576  POSITIVE   \n",
       "16185  2021-04-12  1381470960629387268   en     0.980765  NEGATIVE   \n",
       "16186  2021-04-12  1381470953687764995   en     0.995136  NEGATIVE   \n",
       "16187  2021-04-12  1381470915716739081   en     0.996950  POSITIVE   \n",
       "\n",
       "                                                    text  \n",
       "0       I feel sorry for you If you sell before $TSLA...  \n",
       "1              Motley Crue and Tesla.  Dr. Feelgood tour  \n",
       "2      ✨ Participate in the April #Webull wheel event...  \n",
       "3      RT  Who thinks Mr. Musk will announce Tesla ac...  \n",
       "4      ✨ Participate in the April #Webull wheel event...  \n",
       "...                                                  ...  \n",
       "16183  $TSLA $NIO $MVIS and EV sector\\nEV space laggi...  \n",
       "16184  RT  “Tesla’s long-term competitive advantage w...  \n",
       "16185  RT  Guys its confirmed Corpse has a Tesla took...  \n",
       "16186         Well, in the deluded world Elon fanatic...  \n",
       "16187  RT  World's one of the most technologically ad...  \n",
       "\n",
       "[16188 rows x 6 columns]"
      ]
     },
     "execution_count": 147,
     "metadata": {},
     "output_type": "execute_result"
    }
   ],
   "source": [
    "tweets"
   ]
  },
  {
   "cell_type": "code",
   "execution_count": 148,
   "metadata": {},
   "outputs": [],
   "source": [
    "def calc_avg_sentiment(df,date):\n",
    "    subdf = tweets[tweets['date'] == date]\n",
    "    sentiment = subdf['sentiment'].values\n",
    "    avg_sentiment = sum([-1 if s == 'NEGATIVE' else 1 for s in sentiment])/len(sentiment)\n",
    "    return avg_sentiment"
   ]
  },
  {
   "cell_type": "code",
   "execution_count": 149,
   "metadata": {},
   "outputs": [
    {
     "data": {
      "text/plain": [
       "-0.10493827160493827"
      ]
     },
     "execution_count": 149,
     "metadata": {},
     "output_type": "execute_result"
    }
   ],
   "source": [
    "calc_avg_sentiment(tweets,'2021-04-12')"
   ]
  },
  {
   "cell_type": "code",
   "execution_count": 150,
   "metadata": {},
   "outputs": [
    {
     "data": {
      "text/plain": [
       "-0.06255283178360102"
      ]
     },
     "execution_count": 150,
     "metadata": {},
     "output_type": "execute_result"
    }
   ],
   "source": [
    "calc_avg_sentiment(tweets,'2021-04-13')"
   ]
  },
  {
   "cell_type": "code",
   "execution_count": 151,
   "metadata": {},
   "outputs": [
    {
     "data": {
      "text/plain": [
       "0.12414965986394558"
      ]
     },
     "execution_count": 151,
     "metadata": {},
     "output_type": "execute_result"
    }
   ],
   "source": [
    "calc_avg_sentiment(tweets,'2021-04-14')"
   ]
  },
  {
   "cell_type": "code",
   "execution_count": 152,
   "metadata": {},
   "outputs": [
    {
     "data": {
      "text/plain": [
       "0.0989648033126294"
      ]
     },
     "execution_count": 152,
     "metadata": {},
     "output_type": "execute_result"
    }
   ],
   "source": [
    "calc_avg_sentiment(tweets,'2021-04-15')"
   ]
  },
  {
   "cell_type": "code",
   "execution_count": 153,
   "metadata": {},
   "outputs": [
    {
     "data": {
      "text/plain": [
       "-0.1253693541578725"
      ]
     },
     "execution_count": 153,
     "metadata": {},
     "output_type": "execute_result"
    }
   ],
   "source": [
    "calc_avg_sentiment(tweets,'2021-04-16')"
   ]
  },
  {
   "cell_type": "code",
   "execution_count": 154,
   "metadata": {},
   "outputs": [
    {
     "data": {
      "text/plain": [
       "0.0054416073670992045"
      ]
     },
     "execution_count": 154,
     "metadata": {},
     "output_type": "execute_result"
    }
   ],
   "source": [
    "calc_avg_sentiment(tweets,'2021-04-17')"
   ]
  },
  {
   "cell_type": "code",
   "execution_count": 155,
   "metadata": {},
   "outputs": [
    {
     "data": {
      "text/plain": [
       "0.08372290692732681"
      ]
     },
     "execution_count": 155,
     "metadata": {},
     "output_type": "execute_result"
    }
   ],
   "source": [
    "calc_avg_sentiment(tweets,'2021-04-18')"
   ]
  },
  {
   "cell_type": "code",
   "execution_count": null,
   "metadata": {},
   "outputs": [],
   "source": []
  },
  {
   "cell_type": "code",
   "execution_count": null,
   "metadata": {},
   "outputs": [],
   "source": []
  }
 ],
 "metadata": {
  "kernelspec": {
   "display_name": "proj_env",
   "language": "python",
   "name": "proj_env"
  },
  "language_info": {
   "codemirror_mode": {
    "name": "ipython",
    "version": 3
   },
   "file_extension": ".py",
   "mimetype": "text/x-python",
   "name": "python",
   "nbconvert_exporter": "python",
   "pygments_lexer": "ipython3",
   "version": "3.6.7"
  }
 },
 "nbformat": 4,
 "nbformat_minor": 4
}
